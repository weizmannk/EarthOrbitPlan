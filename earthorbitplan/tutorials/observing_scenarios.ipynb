{
  "cells": [
    {
      "cell_type": "code",
      "execution_count": 1,
      "id": "0",
      "metadata": {
        "colab": {
          "base_uri": "https://localhost:8080/"
        },
        "id": "0",
        "outputId": "227efa62-471b-4f0a-8866-065434150662"
      },
      "outputs": [
        {
          "output_type": "stream",
          "name": "stdout",
          "text": [
            "fatal: destination path 'EarthOrbitPlan' already exists and is not an empty directory.\n",
            "/content/EarthOrbitPlan\n",
            "Obtaining file:///content/EarthOrbitPlan\n",
            "  Installing build dependencies ... \u001b[?25l\u001b[?25hdone\n",
            "  Checking if build backend supports build_editable ... \u001b[?25l\u001b[?25hdone\n",
            "  Getting requirements to build editable ... \u001b[?25l\u001b[?25hdone\n",
            "  Preparing editable metadata (pyproject.toml) ... \u001b[?25l\u001b[?25hdone\n",
            "Collecting m4opt@ git+https://github.com/m4opt/m4opt@main (from EarthOrbitPlan==0.1.dev228+gf940aeb74.d20251008)\n",
            "  Cloning https://github.com/m4opt/m4opt (to revision main) to /tmp/pip-install-v8rb9e7j/m4opt_09e46ef0afb540b08de6c124d2019d6c\n",
            "  Running command git clone --filter=blob:none --quiet https://github.com/m4opt/m4opt /tmp/pip-install-v8rb9e7j/m4opt_09e46ef0afb540b08de6c124d2019d6c\n",
            "  Resolved https://github.com/m4opt/m4opt to commit 494cff872199e7f348c11ae7eee74262d3b1f180\n",
            "  Installing build dependencies ... \u001b[?25l\u001b[?25hdone\n",
            "  Getting requirements to build wheel ... \u001b[?25l\u001b[?25hdone\n",
            "  Preparing metadata (pyproject.toml) ... \u001b[?25l\u001b[?25hdone\n",
            "Requirement already satisfied: pandas in /usr/local/lib/python3.12/dist-packages (from EarthOrbitPlan==0.1.dev228+gf940aeb74.d20251008) (2.2.2)\n",
            "Requirement already satisfied: joblib in /usr/local/lib/python3.12/dist-packages (from EarthOrbitPlan==0.1.dev228+gf940aeb74.d20251008) (1.5.2)\n",
            "Requirement already satisfied: dask in /usr/local/lib/python3.12/dist-packages (from EarthOrbitPlan==0.1.dev228+gf940aeb74.d20251008) (2025.5.0)\n",
            "Requirement already satisfied: dask-jobqueue in /usr/local/lib/python3.12/dist-packages (from EarthOrbitPlan==0.1.dev228+gf940aeb74.d20251008) (0.9.0)\n",
            "Requirement already satisfied: pre-commit in /usr/local/lib/python3.12/dist-packages (from EarthOrbitPlan==0.1.dev228+gf940aeb74.d20251008) (4.3.0)\n",
            "Requirement already satisfied: memory-profiler in /usr/local/lib/python3.12/dist-packages (from EarthOrbitPlan==0.1.dev228+gf940aeb74.d20251008) (0.61.0)\n",
            "Requirement already satisfied: python-ligo-lw in /usr/local/lib/python3.12/dist-packages (from EarthOrbitPlan==0.1.dev228+gf940aeb74.d20251008) (1.8.4)\n",
            "Requirement already satisfied: igwn-ligolw in /usr/local/lib/python3.12/dist-packages (from EarthOrbitPlan==0.1.dev228+gf940aeb74.d20251008) (2.1.0)\n",
            "Requirement already satisfied: click>=8.1 in /usr/local/lib/python3.12/dist-packages (from dask->EarthOrbitPlan==0.1.dev228+gf940aeb74.d20251008) (8.3.0)\n",
            "Requirement already satisfied: cloudpickle>=3.0.0 in /usr/local/lib/python3.12/dist-packages (from dask->EarthOrbitPlan==0.1.dev228+gf940aeb74.d20251008) (3.1.1)\n",
            "Requirement already satisfied: fsspec>=2021.09.0 in /usr/local/lib/python3.12/dist-packages (from dask->EarthOrbitPlan==0.1.dev228+gf940aeb74.d20251008) (2025.3.0)\n",
            "Requirement already satisfied: packaging>=20.0 in /usr/local/lib/python3.12/dist-packages (from dask->EarthOrbitPlan==0.1.dev228+gf940aeb74.d20251008) (25.0)\n",
            "Requirement already satisfied: partd>=1.4.0 in /usr/local/lib/python3.12/dist-packages (from dask->EarthOrbitPlan==0.1.dev228+gf940aeb74.d20251008) (1.4.2)\n",
            "Requirement already satisfied: pyyaml>=5.3.1 in /usr/local/lib/python3.12/dist-packages (from dask->EarthOrbitPlan==0.1.dev228+gf940aeb74.d20251008) (6.0.3)\n",
            "Requirement already satisfied: toolz>=0.10.0 in /usr/local/lib/python3.12/dist-packages (from dask->EarthOrbitPlan==0.1.dev228+gf940aeb74.d20251008) (0.12.1)\n",
            "Requirement already satisfied: distributed>=2022.02.0 in /usr/local/lib/python3.12/dist-packages (from dask-jobqueue->EarthOrbitPlan==0.1.dev228+gf940aeb74.d20251008) (2025.5.0)\n",
            "Requirement already satisfied: igwn-segments in /usr/local/lib/python3.12/dist-packages (from igwn-ligolw->EarthOrbitPlan==0.1.dev228+gf940aeb74.d20251008) (2.1.0)\n",
            "Requirement already satisfied: numpy in /usr/local/lib/python3.12/dist-packages (from igwn-ligolw->EarthOrbitPlan==0.1.dev228+gf940aeb74.d20251008) (2.1.3)\n",
            "Requirement already satisfied: python-dateutil in /usr/local/lib/python3.12/dist-packages (from igwn-ligolw->EarthOrbitPlan==0.1.dev228+gf940aeb74.d20251008) (2.9.0.post0)\n",
            "Requirement already satisfied: tqdm in /usr/local/lib/python3.12/dist-packages (from igwn-ligolw->EarthOrbitPlan==0.1.dev228+gf940aeb74.d20251008) (4.67.1)\n",
            "Requirement already satisfied: aep8 in /usr/local/lib/python3.12/dist-packages (from m4opt@ git+https://github.com/m4opt/m4opt@main->EarthOrbitPlan==0.1.dev228+gf940aeb74.d20251008) (0.2.0)\n",
            "Requirement already satisfied: antiprism-python in /usr/local/lib/python3.12/dist-packages (from m4opt@ git+https://github.com/m4opt/m4opt@main->EarthOrbitPlan==0.1.dev228+gf940aeb74.d20251008) (0.1.3)\n",
            "Requirement already satisfied: astropy>=7.1.0 in /usr/local/lib/python3.12/dist-packages (from m4opt@ git+https://github.com/m4opt/m4opt@main->EarthOrbitPlan==0.1.dev228+gf940aeb74.d20251008) (7.1.0)\n",
            "Requirement already satisfied: astropy-healpix in /usr/local/lib/python3.12/dist-packages (from m4opt@ git+https://github.com/m4opt/m4opt@main->EarthOrbitPlan==0.1.dev228+gf940aeb74.d20251008) (1.1.2)\n",
            "Requirement already satisfied: astroquery in /usr/local/lib/python3.12/dist-packages (from m4opt@ git+https://github.com/m4opt/m4opt@main->EarthOrbitPlan==0.1.dev228+gf940aeb74.d20251008) (0.4.11)\n",
            "Requirement already satisfied: cplex in /usr/local/lib/python3.12/dist-packages (from m4opt@ git+https://github.com/m4opt/m4opt@main->EarthOrbitPlan==0.1.dev228+gf940aeb74.d20251008) (22.1.2.0)\n",
            "Requirement already satisfied: docplex in /usr/local/lib/python3.12/dist-packages (from m4opt@ git+https://github.com/m4opt/m4opt@main->EarthOrbitPlan==0.1.dev228+gf940aeb74.d20251008) (2.30.251)\n",
            "Requirement already satisfied: dust-extinction in /usr/local/lib/python3.12/dist-packages (from m4opt@ git+https://github.com/m4opt/m4opt@main->EarthOrbitPlan==0.1.dev228+gf940aeb74.d20251008) (1.6)\n",
            "Requirement already satisfied: dustmaps in /usr/local/lib/python3.12/dist-packages (from m4opt@ git+https://github.com/m4opt/m4opt@main->EarthOrbitPlan==0.1.dev228+gf940aeb74.d20251008) (1.0.14)\n",
            "Requirement already satisfied: ligo.skymap>=2.4.0 in /usr/local/lib/python3.12/dist-packages (from m4opt@ git+https://github.com/m4opt/m4opt@main->EarthOrbitPlan==0.1.dev228+gf940aeb74.d20251008) (2.4.1)\n",
            "Requirement already satisfied: networkx in /usr/local/lib/python3.12/dist-packages (from m4opt@ git+https://github.com/m4opt/m4opt@main->EarthOrbitPlan==0.1.dev228+gf940aeb74.d20251008) (3.5)\n",
            "Requirement already satisfied: regions in /usr/local/lib/python3.12/dist-packages (from m4opt@ git+https://github.com/m4opt/m4opt@main->EarthOrbitPlan==0.1.dev228+gf940aeb74.d20251008) (0.10)\n",
            "Requirement already satisfied: pymetis in /usr/local/lib/python3.12/dist-packages (from m4opt@ git+https://github.com/m4opt/m4opt@main->EarthOrbitPlan==0.1.dev228+gf940aeb74.d20251008) (2025.2.1)\n",
            "Requirement already satisfied: satellitetle in /usr/local/lib/python3.12/dist-packages (from m4opt@ git+https://github.com/m4opt/m4opt@main->EarthOrbitPlan==0.1.dev228+gf940aeb74.d20251008) (0.18.0)\n",
            "Requirement already satisfied: scipy in /usr/local/lib/python3.12/dist-packages (from m4opt@ git+https://github.com/m4opt/m4opt@main->EarthOrbitPlan==0.1.dev228+gf940aeb74.d20251008) (1.16.2)\n",
            "Requirement already satisfied: sgp4 in /usr/local/lib/python3.12/dist-packages (from m4opt@ git+https://github.com/m4opt/m4opt@main->EarthOrbitPlan==0.1.dev228+gf940aeb74.d20251008) (2.25)\n",
            "Requirement already satisfied: spiceypy in /usr/local/lib/python3.12/dist-packages (from m4opt@ git+https://github.com/m4opt/m4opt@main->EarthOrbitPlan==0.1.dev228+gf940aeb74.d20251008) (7.0.0)\n",
            "Requirement already satisfied: sympy in /usr/local/lib/python3.12/dist-packages (from m4opt@ git+https://github.com/m4opt/m4opt@main->EarthOrbitPlan==0.1.dev228+gf940aeb74.d20251008) (1.13.3)\n",
            "Requirement already satisfied: synphot in /usr/local/lib/python3.12/dist-packages (from m4opt@ git+https://github.com/m4opt/m4opt@main->EarthOrbitPlan==0.1.dev228+gf940aeb74.d20251008) (1.6.0)\n",
            "Requirement already satisfied: typer>=0.16.0 in /usr/local/lib/python3.12/dist-packages (from m4opt@ git+https://github.com/m4opt/m4opt@main->EarthOrbitPlan==0.1.dev228+gf940aeb74.d20251008) (0.19.2)\n",
            "Requirement already satisfied: xdg-base-dirs in /usr/local/lib/python3.12/dist-packages (from m4opt@ git+https://github.com/m4opt/m4opt@main->EarthOrbitPlan==0.1.dev228+gf940aeb74.d20251008) (6.0.2)\n",
            "Requirement already satisfied: psutil in /usr/local/lib/python3.12/dist-packages (from memory-profiler->EarthOrbitPlan==0.1.dev228+gf940aeb74.d20251008) (5.9.5)\n",
            "Requirement already satisfied: pytz>=2020.1 in /usr/local/lib/python3.12/dist-packages (from pandas->EarthOrbitPlan==0.1.dev228+gf940aeb74.d20251008) (2025.2)\n",
            "Requirement already satisfied: tzdata>=2022.7 in /usr/local/lib/python3.12/dist-packages (from pandas->EarthOrbitPlan==0.1.dev228+gf940aeb74.d20251008) (2025.2)\n",
            "Requirement already satisfied: cfgv>=2.0.0 in /usr/local/lib/python3.12/dist-packages (from pre-commit->EarthOrbitPlan==0.1.dev228+gf940aeb74.d20251008) (3.4.0)\n",
            "Requirement already satisfied: identify>=1.0.0 in /usr/local/lib/python3.12/dist-packages (from pre-commit->EarthOrbitPlan==0.1.dev228+gf940aeb74.d20251008) (2.6.15)\n",
            "Requirement already satisfied: nodeenv>=0.11.1 in /usr/local/lib/python3.12/dist-packages (from pre-commit->EarthOrbitPlan==0.1.dev228+gf940aeb74.d20251008) (1.9.1)\n",
            "Requirement already satisfied: virtualenv>=20.10.0 in /usr/local/lib/python3.12/dist-packages (from pre-commit->EarthOrbitPlan==0.1.dev228+gf940aeb74.d20251008) (20.34.0)\n",
            "Requirement already satisfied: ligo-segments in /usr/local/lib/python3.12/dist-packages (from python-ligo-lw->EarthOrbitPlan==0.1.dev228+gf940aeb74.d20251008) (1.4.0)\n",
            "Requirement already satisfied: lscsoft-glue in /usr/local/lib/python3.12/dist-packages (from python-ligo-lw->EarthOrbitPlan==0.1.dev228+gf940aeb74.d20251008) (4.1.1)\n",
            "Requirement already satisfied: six in /usr/local/lib/python3.12/dist-packages (from python-ligo-lw->EarthOrbitPlan==0.1.dev228+gf940aeb74.d20251008) (1.17.0)\n",
            "Requirement already satisfied: pyerfa>=2.0.1.1 in /usr/local/lib/python3.12/dist-packages (from astropy>=7.1.0->m4opt@ git+https://github.com/m4opt/m4opt@main->EarthOrbitPlan==0.1.dev228+gf940aeb74.d20251008) (2.0.1.5)\n",
            "Requirement already satisfied: astropy-iers-data>=0.2025.4.28.0.37.27 in /usr/local/lib/python3.12/dist-packages (from astropy>=7.1.0->m4opt@ git+https://github.com/m4opt/m4opt@main->EarthOrbitPlan==0.1.dev228+gf940aeb74.d20251008) (0.2025.10.6.0.35.25)\n",
            "Requirement already satisfied: jinja2>=2.10.3 in /usr/local/lib/python3.12/dist-packages (from distributed>=2022.02.0->dask-jobqueue->EarthOrbitPlan==0.1.dev228+gf940aeb74.d20251008) (3.1.6)\n",
            "Requirement already satisfied: locket>=1.0.0 in /usr/local/lib/python3.12/dist-packages (from distributed>=2022.02.0->dask-jobqueue->EarthOrbitPlan==0.1.dev228+gf940aeb74.d20251008) (1.0.0)\n",
            "Requirement already satisfied: msgpack>=1.0.2 in /usr/local/lib/python3.12/dist-packages (from distributed>=2022.02.0->dask-jobqueue->EarthOrbitPlan==0.1.dev228+gf940aeb74.d20251008) (1.1.1)\n",
            "Requirement already satisfied: sortedcontainers>=2.0.5 in /usr/local/lib/python3.12/dist-packages (from distributed>=2022.02.0->dask-jobqueue->EarthOrbitPlan==0.1.dev228+gf940aeb74.d20251008) (2.4.0)\n",
            "Requirement already satisfied: tblib>=1.6.0 in /usr/local/lib/python3.12/dist-packages (from distributed>=2022.02.0->dask-jobqueue->EarthOrbitPlan==0.1.dev228+gf940aeb74.d20251008) (3.1.0)\n",
            "Requirement already satisfied: tornado>=6.2.0 in /usr/local/lib/python3.12/dist-packages (from distributed>=2022.02.0->dask-jobqueue->EarthOrbitPlan==0.1.dev228+gf940aeb74.d20251008) (6.4.2)\n",
            "Requirement already satisfied: urllib3>=1.26.5 in /usr/local/lib/python3.12/dist-packages (from distributed>=2022.02.0->dask-jobqueue->EarthOrbitPlan==0.1.dev228+gf940aeb74.d20251008) (2.5.0)\n",
            "Requirement already satisfied: zict>=3.0.0 in /usr/local/lib/python3.12/dist-packages (from distributed>=2022.02.0->dask-jobqueue->EarthOrbitPlan==0.1.dev228+gf940aeb74.d20251008) (3.0.0)\n",
            "Requirement already satisfied: astroplan>=0.7 in /usr/local/lib/python3.12/dist-packages (from ligo.skymap>=2.4.0->m4opt@ git+https://github.com/m4opt/m4opt@main->EarthOrbitPlan==0.1.dev228+gf940aeb74.d20251008) (0.10.1)\n",
            "Requirement already satisfied: healpy in /usr/local/lib/python3.12/dist-packages (from ligo.skymap>=2.4.0->m4opt@ git+https://github.com/m4opt/m4opt@main->EarthOrbitPlan==0.1.dev228+gf940aeb74.d20251008) (1.18.1)\n",
            "Requirement already satisfied: h5py in /usr/local/lib/python3.12/dist-packages (from ligo.skymap>=2.4.0->m4opt@ git+https://github.com/m4opt/m4opt@main->EarthOrbitPlan==0.1.dev228+gf940aeb74.d20251008) (3.14.0)\n",
            "Requirement already satisfied: lalsuite>=7.26 in /usr/local/lib/python3.12/dist-packages (from ligo.skymap>=2.4.0->m4opt@ git+https://github.com/m4opt/m4opt@main->EarthOrbitPlan==0.1.dev228+gf940aeb74.d20251008) (7.26.1)\n",
            "Requirement already satisfied: ligo-gracedb>=2.0.1 in /usr/local/lib/python3.12/dist-packages (from ligo.skymap>=2.4.0->m4opt@ git+https://github.com/m4opt/m4opt@main->EarthOrbitPlan==0.1.dev228+gf940aeb74.d20251008) (2.14.3)\n",
            "Requirement already satisfied: matplotlib>=3.9.1 in /usr/local/lib/python3.12/dist-packages (from ligo.skymap>=2.4.0->m4opt@ git+https://github.com/m4opt/m4opt@main->EarthOrbitPlan==0.1.dev228+gf940aeb74.d20251008) (3.10.0)\n",
            "Requirement already satisfied: pillow>=2.5.0 in /usr/local/lib/python3.12/dist-packages (from ligo.skymap>=2.4.0->m4opt@ git+https://github.com/m4opt/m4opt@main->EarthOrbitPlan==0.1.dev228+gf940aeb74.d20251008) (11.3.0)\n",
            "Requirement already satisfied: ptemcee in /usr/local/lib/python3.12/dist-packages (from ligo.skymap>=2.4.0->m4opt@ git+https://github.com/m4opt/m4opt@main->EarthOrbitPlan==0.1.dev228+gf940aeb74.d20251008) (1.0.0)\n",
            "Requirement already satisfied: reproject>=0.3.2 in /usr/local/lib/python3.12/dist-packages (from ligo.skymap>=2.4.0->m4opt@ git+https://github.com/m4opt/m4opt@main->EarthOrbitPlan==0.1.dev228+gf940aeb74.d20251008) (0.16.0)\n",
            "Requirement already satisfied: shapely>=2.0.0 in /usr/local/lib/python3.12/dist-packages (from ligo.skymap>=2.4.0->m4opt@ git+https://github.com/m4opt/m4opt@main->EarthOrbitPlan==0.1.dev228+gf940aeb74.d20251008) (2.1.2)\n",
            "Requirement already satisfied: typing-extensions>=3.7.4.3 in /usr/local/lib/python3.12/dist-packages (from typer>=0.16.0->m4opt@ git+https://github.com/m4opt/m4opt@main->EarthOrbitPlan==0.1.dev228+gf940aeb74.d20251008) (4.15.0)\n",
            "Requirement already satisfied: shellingham>=1.3.0 in /usr/local/lib/python3.12/dist-packages (from typer>=0.16.0->m4opt@ git+https://github.com/m4opt/m4opt@main->EarthOrbitPlan==0.1.dev228+gf940aeb74.d20251008) (1.5.4)\n",
            "Requirement already satisfied: rich>=10.11.0 in /usr/local/lib/python3.12/dist-packages (from typer>=0.16.0->m4opt@ git+https://github.com/m4opt/m4opt@main->EarthOrbitPlan==0.1.dev228+gf940aeb74.d20251008) (13.9.4)\n",
            "Requirement already satisfied: distlib<1,>=0.3.7 in /usr/local/lib/python3.12/dist-packages (from virtualenv>=20.10.0->pre-commit->EarthOrbitPlan==0.1.dev228+gf940aeb74.d20251008) (0.4.0)\n",
            "Requirement already satisfied: filelock<4,>=3.12.2 in /usr/local/lib/python3.12/dist-packages (from virtualenv>=20.10.0->pre-commit->EarthOrbitPlan==0.1.dev228+gf940aeb74.d20251008) (3.19.1)\n",
            "Requirement already satisfied: platformdirs<5,>=3.9.1 in /usr/local/lib/python3.12/dist-packages (from virtualenv>=20.10.0->pre-commit->EarthOrbitPlan==0.1.dev228+gf940aeb74.d20251008) (4.4.0)\n",
            "Requirement already satisfied: requests>=2.19 in /usr/local/lib/python3.12/dist-packages (from astroquery->m4opt@ git+https://github.com/m4opt/m4opt@main->EarthOrbitPlan==0.1.dev228+gf940aeb74.d20251008) (2.32.4)\n",
            "Requirement already satisfied: beautifulsoup4>=4.8 in /usr/local/lib/python3.12/dist-packages (from astroquery->m4opt@ git+https://github.com/m4opt/m4opt@main->EarthOrbitPlan==0.1.dev228+gf940aeb74.d20251008) (4.13.5)\n",
            "Requirement already satisfied: html5lib>=0.999 in /usr/local/lib/python3.12/dist-packages (from astroquery->m4opt@ git+https://github.com/m4opt/m4opt@main->EarthOrbitPlan==0.1.dev228+gf940aeb74.d20251008) (1.1)\n",
            "Requirement already satisfied: keyring>=15.0 in /usr/local/lib/python3.12/dist-packages (from astroquery->m4opt@ git+https://github.com/m4opt/m4opt@main->EarthOrbitPlan==0.1.dev228+gf940aeb74.d20251008) (25.6.0)\n",
            "Requirement already satisfied: pyvo>=1.5 in /usr/local/lib/python3.12/dist-packages (from astroquery->m4opt@ git+https://github.com/m4opt/m4opt@main->EarthOrbitPlan==0.1.dev228+gf940aeb74.d20251008) (1.7)\n",
            "Requirement already satisfied: progressbar2 in /usr/local/lib/python3.12/dist-packages (from dustmaps->m4opt@ git+https://github.com/m4opt/m4opt@main->EarthOrbitPlan==0.1.dev228+gf940aeb74.d20251008) (4.5.0)\n",
            "Requirement already satisfied: spacetrack~=1.4.0 in /usr/local/lib/python3.12/dist-packages (from satellitetle->m4opt@ git+https://github.com/m4opt/m4opt@main->EarthOrbitPlan==0.1.dev228+gf940aeb74.d20251008) (1.4.0)\n",
            "Requirement already satisfied: importlib-metadata in /usr/local/lib/python3.12/dist-packages (from satellitetle->m4opt@ git+https://github.com/m4opt/m4opt@main->EarthOrbitPlan==0.1.dev228+gf940aeb74.d20251008) (8.7.0)\n",
            "Requirement already satisfied: mpmath<1.4,>=1.1.0 in /usr/local/lib/python3.12/dist-packages (from sympy->m4opt@ git+https://github.com/m4opt/m4opt@main->EarthOrbitPlan==0.1.dev228+gf940aeb74.d20251008) (1.3.0)\n",
            "Requirement already satisfied: soupsieve>1.2 in /usr/local/lib/python3.12/dist-packages (from beautifulsoup4>=4.8->astroquery->m4opt@ git+https://github.com/m4opt/m4opt@main->EarthOrbitPlan==0.1.dev228+gf940aeb74.d20251008) (2.8)\n",
            "Requirement already satisfied: webencodings in /usr/local/lib/python3.12/dist-packages (from html5lib>=0.999->astroquery->m4opt@ git+https://github.com/m4opt/m4opt@main->EarthOrbitPlan==0.1.dev228+gf940aeb74.d20251008) (0.5.1)\n",
            "Requirement already satisfied: MarkupSafe>=2.0 in /usr/local/lib/python3.12/dist-packages (from jinja2>=2.10.3->distributed>=2022.02.0->dask-jobqueue->EarthOrbitPlan==0.1.dev228+gf940aeb74.d20251008) (3.0.3)\n",
            "Requirement already satisfied: SecretStorage>=3.2 in /usr/local/lib/python3.12/dist-packages (from keyring>=15.0->astroquery->m4opt@ git+https://github.com/m4opt/m4opt@main->EarthOrbitPlan==0.1.dev228+gf940aeb74.d20251008) (3.4.0)\n",
            "Requirement already satisfied: jeepney>=0.4.2 in /usr/local/lib/python3.12/dist-packages (from keyring>=15.0->astroquery->m4opt@ git+https://github.com/m4opt/m4opt@main->EarthOrbitPlan==0.1.dev228+gf940aeb74.d20251008) (0.9.0)\n",
            "Requirement already satisfied: jaraco.classes in /usr/local/lib/python3.12/dist-packages (from keyring>=15.0->astroquery->m4opt@ git+https://github.com/m4opt/m4opt@main->EarthOrbitPlan==0.1.dev228+gf940aeb74.d20251008) (3.4.0)\n",
            "Requirement already satisfied: jaraco.functools in /usr/local/lib/python3.12/dist-packages (from keyring>=15.0->astroquery->m4opt@ git+https://github.com/m4opt/m4opt@main->EarthOrbitPlan==0.1.dev228+gf940aeb74.d20251008) (4.3.0)\n",
            "Requirement already satisfied: jaraco.context in /usr/local/lib/python3.12/dist-packages (from keyring>=15.0->astroquery->m4opt@ git+https://github.com/m4opt/m4opt@main->EarthOrbitPlan==0.1.dev228+gf940aeb74.d20251008) (6.0.1)\n",
            "Requirement already satisfied: cryptography>=1.7.2 in /usr/local/lib/python3.12/dist-packages (from ligo-gracedb>=2.0.1->ligo.skymap>=2.4.0->m4opt@ git+https://github.com/m4opt/m4opt@main->EarthOrbitPlan==0.1.dev228+gf940aeb74.d20251008) (46.0.2)\n",
            "Requirement already satisfied: igwn-auth-utils>=1.0.0 in /usr/local/lib/python3.12/dist-packages (from ligo-gracedb>=2.0.1->ligo.skymap>=2.4.0->m4opt@ git+https://github.com/m4opt/m4opt@main->EarthOrbitPlan==0.1.dev228+gf940aeb74.d20251008) (1.4.0)\n",
            "Requirement already satisfied: contourpy>=1.0.1 in /usr/local/lib/python3.12/dist-packages (from matplotlib>=3.9.1->ligo.skymap>=2.4.0->m4opt@ git+https://github.com/m4opt/m4opt@main->EarthOrbitPlan==0.1.dev228+gf940aeb74.d20251008) (1.3.3)\n",
            "Requirement already satisfied: cycler>=0.10 in /usr/local/lib/python3.12/dist-packages (from matplotlib>=3.9.1->ligo.skymap>=2.4.0->m4opt@ git+https://github.com/m4opt/m4opt@main->EarthOrbitPlan==0.1.dev228+gf940aeb74.d20251008) (0.12.1)\n",
            "Requirement already satisfied: fonttools>=4.22.0 in /usr/local/lib/python3.12/dist-packages (from matplotlib>=3.9.1->ligo.skymap>=2.4.0->m4opt@ git+https://github.com/m4opt/m4opt@main->EarthOrbitPlan==0.1.dev228+gf940aeb74.d20251008) (4.60.1)\n",
            "Requirement already satisfied: kiwisolver>=1.3.1 in /usr/local/lib/python3.12/dist-packages (from matplotlib>=3.9.1->ligo.skymap>=2.4.0->m4opt@ git+https://github.com/m4opt/m4opt@main->EarthOrbitPlan==0.1.dev228+gf940aeb74.d20251008) (1.4.9)\n",
            "Requirement already satisfied: pyparsing>=2.3.1 in /usr/local/lib/python3.12/dist-packages (from matplotlib>=3.9.1->ligo.skymap>=2.4.0->m4opt@ git+https://github.com/m4opt/m4opt@main->EarthOrbitPlan==0.1.dev228+gf940aeb74.d20251008) (3.2.5)\n",
            "Requirement already satisfied: zarr>=2.11.0 in /usr/local/lib/python3.12/dist-packages (from reproject>=0.3.2->ligo.skymap>=2.4.0->m4opt@ git+https://github.com/m4opt/m4opt@main->EarthOrbitPlan==0.1.dev228+gf940aeb74.d20251008) (3.1.3)\n",
            "Requirement already satisfied: pyavm>=0.9.6 in /usr/local/lib/python3.12/dist-packages (from reproject>=0.3.2->ligo.skymap>=2.4.0->m4opt@ git+https://github.com/m4opt/m4opt@main->EarthOrbitPlan==0.1.dev228+gf940aeb74.d20251008) (0.9.6)\n",
            "Requirement already satisfied: charset_normalizer<4,>=2 in /usr/local/lib/python3.12/dist-packages (from requests>=2.19->astroquery->m4opt@ git+https://github.com/m4opt/m4opt@main->EarthOrbitPlan==0.1.dev228+gf940aeb74.d20251008) (3.4.3)\n",
            "Requirement already satisfied: idna<4,>=2.5 in /usr/local/lib/python3.12/dist-packages (from requests>=2.19->astroquery->m4opt@ git+https://github.com/m4opt/m4opt@main->EarthOrbitPlan==0.1.dev228+gf940aeb74.d20251008) (3.10)\n",
            "Requirement already satisfied: certifi>=2017.4.17 in /usr/local/lib/python3.12/dist-packages (from requests>=2.19->astroquery->m4opt@ git+https://github.com/m4opt/m4opt@main->EarthOrbitPlan==0.1.dev228+gf940aeb74.d20251008) (2025.8.3)\n",
            "Requirement already satisfied: markdown-it-py>=2.2.0 in /usr/local/lib/python3.12/dist-packages (from rich>=10.11.0->typer>=0.16.0->m4opt@ git+https://github.com/m4opt/m4opt@main->EarthOrbitPlan==0.1.dev228+gf940aeb74.d20251008) (4.0.0)\n",
            "Requirement already satisfied: pygments<3.0.0,>=2.13.0 in /usr/local/lib/python3.12/dist-packages (from rich>=10.11.0->typer>=0.16.0->m4opt@ git+https://github.com/m4opt/m4opt@main->EarthOrbitPlan==0.1.dev228+gf940aeb74.d20251008) (2.19.2)\n",
            "Requirement already satisfied: httpx>=0.28.1 in /usr/local/lib/python3.12/dist-packages (from spacetrack~=1.4.0->satellitetle->m4opt@ git+https://github.com/m4opt/m4opt@main->EarthOrbitPlan==0.1.dev228+gf940aeb74.d20251008) (0.28.1)\n",
            "Requirement already satisfied: logbook>=1.8.0 in /usr/local/lib/python3.12/dist-packages (from spacetrack~=1.4.0->satellitetle->m4opt@ git+https://github.com/m4opt/m4opt@main->EarthOrbitPlan==0.1.dev228+gf940aeb74.d20251008) (1.8.2)\n",
            "Requirement already satisfied: outcome>=1.3.0.post0 in /usr/local/lib/python3.12/dist-packages (from spacetrack~=1.4.0->satellitetle->m4opt@ git+https://github.com/m4opt/m4opt@main->EarthOrbitPlan==0.1.dev228+gf940aeb74.d20251008) (1.3.0.post0)\n",
            "Requirement already satisfied: represent>=2.1 in /usr/local/lib/python3.12/dist-packages (from spacetrack~=1.4.0->satellitetle->m4opt@ git+https://github.com/m4opt/m4opt@main->EarthOrbitPlan==0.1.dev228+gf940aeb74.d20251008) (2.1)\n",
            "Requirement already satisfied: rush>=2021.4.0 in /usr/local/lib/python3.12/dist-packages (from spacetrack~=1.4.0->satellitetle->m4opt@ git+https://github.com/m4opt/m4opt@main->EarthOrbitPlan==0.1.dev228+gf940aeb74.d20251008) (2021.4.0)\n",
            "Requirement already satisfied: sniffio>=1.3.1 in /usr/local/lib/python3.12/dist-packages (from spacetrack~=1.4.0->satellitetle->m4opt@ git+https://github.com/m4opt/m4opt@main->EarthOrbitPlan==0.1.dev228+gf940aeb74.d20251008) (1.3.1)\n",
            "Requirement already satisfied: zipp>=3.20 in /usr/local/lib/python3.12/dist-packages (from importlib-metadata->satellitetle->m4opt@ git+https://github.com/m4opt/m4opt@main->EarthOrbitPlan==0.1.dev228+gf940aeb74.d20251008) (3.23.0)\n",
            "Requirement already satisfied: python-utils>=3.8.1 in /usr/local/lib/python3.12/dist-packages (from progressbar2->dustmaps->m4opt@ git+https://github.com/m4opt/m4opt@main->EarthOrbitPlan==0.1.dev228+gf940aeb74.d20251008) (3.9.1)\n",
            "Requirement already satisfied: cffi>=2.0.0 in /usr/local/lib/python3.12/dist-packages (from cryptography>=1.7.2->ligo-gracedb>=2.0.1->ligo.skymap>=2.4.0->m4opt@ git+https://github.com/m4opt/m4opt@main->EarthOrbitPlan==0.1.dev228+gf940aeb74.d20251008) (2.0.0)\n",
            "Requirement already satisfied: anyio in /usr/local/lib/python3.12/dist-packages (from httpx>=0.28.1->spacetrack~=1.4.0->satellitetle->m4opt@ git+https://github.com/m4opt/m4opt@main->EarthOrbitPlan==0.1.dev228+gf940aeb74.d20251008) (4.11.0)\n",
            "Requirement already satisfied: httpcore==1.* in /usr/local/lib/python3.12/dist-packages (from httpx>=0.28.1->spacetrack~=1.4.0->satellitetle->m4opt@ git+https://github.com/m4opt/m4opt@main->EarthOrbitPlan==0.1.dev228+gf940aeb74.d20251008) (1.0.9)\n",
            "Requirement already satisfied: h11>=0.16 in /usr/local/lib/python3.12/dist-packages (from httpcore==1.*->httpx>=0.28.1->spacetrack~=1.4.0->satellitetle->m4opt@ git+https://github.com/m4opt/m4opt@main->EarthOrbitPlan==0.1.dev228+gf940aeb74.d20251008) (0.16.0)\n",
            "Requirement already satisfied: safe-netrc>=1.0 in /usr/local/lib/python3.12/dist-packages (from igwn-auth-utils>=1.0.0->ligo-gracedb>=2.0.1->ligo.skymap>=2.4.0->m4opt@ git+https://github.com/m4opt/m4opt@main->EarthOrbitPlan==0.1.dev228+gf940aeb74.d20251008) (1.0.1)\n",
            "Requirement already satisfied: scitokens>=1.8 in /usr/local/lib/python3.12/dist-packages (from igwn-auth-utils>=1.0.0->ligo-gracedb>=2.0.1->ligo.skymap>=2.4.0->m4opt@ git+https://github.com/m4opt/m4opt@main->EarthOrbitPlan==0.1.dev228+gf940aeb74.d20251008) (1.8.1)\n",
            "Requirement already satisfied: mdurl~=0.1 in /usr/local/lib/python3.12/dist-packages (from markdown-it-py>=2.2.0->rich>=10.11.0->typer>=0.16.0->m4opt@ git+https://github.com/m4opt/m4opt@main->EarthOrbitPlan==0.1.dev228+gf940aeb74.d20251008) (0.1.2)\n",
            "Requirement already satisfied: attrs>=19.2.0 in /usr/local/lib/python3.12/dist-packages (from outcome>=1.3.0.post0->spacetrack~=1.4.0->satellitetle->m4opt@ git+https://github.com/m4opt/m4opt@main->EarthOrbitPlan==0.1.dev228+gf940aeb74.d20251008) (25.3.0)\n",
            "Requirement already satisfied: donfig>=0.8 in /usr/local/lib/python3.12/dist-packages (from zarr>=2.11.0->reproject>=0.3.2->ligo.skymap>=2.4.0->m4opt@ git+https://github.com/m4opt/m4opt@main->EarthOrbitPlan==0.1.dev228+gf940aeb74.d20251008) (0.8.1.post1)\n",
            "Requirement already satisfied: numcodecs>=0.14 in /usr/local/lib/python3.12/dist-packages (from numcodecs[crc32c]>=0.14->zarr>=2.11.0->reproject>=0.3.2->ligo.skymap>=2.4.0->m4opt@ git+https://github.com/m4opt/m4opt@main->EarthOrbitPlan==0.1.dev228+gf940aeb74.d20251008) (0.16.3)\n",
            "Requirement already satisfied: more-itertools in /usr/local/lib/python3.12/dist-packages (from jaraco.classes->keyring>=15.0->astroquery->m4opt@ git+https://github.com/m4opt/m4opt@main->EarthOrbitPlan==0.1.dev228+gf940aeb74.d20251008) (10.8.0)\n",
            "Requirement already satisfied: pycparser in /usr/local/lib/python3.12/dist-packages (from cffi>=2.0.0->cryptography>=1.7.2->ligo-gracedb>=2.0.1->ligo.skymap>=2.4.0->m4opt@ git+https://github.com/m4opt/m4opt@main->EarthOrbitPlan==0.1.dev228+gf940aeb74.d20251008) (2.23)\n",
            "Requirement already satisfied: crc32c>=2.7 in /usr/local/lib/python3.12/dist-packages (from numcodecs[crc32c]>=0.14->zarr>=2.11.0->reproject>=0.3.2->ligo.skymap>=2.4.0->m4opt@ git+https://github.com/m4opt/m4opt@main->EarthOrbitPlan==0.1.dev228+gf940aeb74.d20251008) (2.7.1)\n",
            "Requirement already satisfied: PyJWT>=1.6.1 in /usr/local/lib/python3.12/dist-packages (from scitokens>=1.8->igwn-auth-utils>=1.0.0->ligo-gracedb>=2.0.1->ligo.skymap>=2.4.0->m4opt@ git+https://github.com/m4opt/m4opt@main->EarthOrbitPlan==0.1.dev228+gf940aeb74.d20251008) (2.10.1)\n",
            "Building wheels for collected packages: EarthOrbitPlan\n",
            "  Building editable for EarthOrbitPlan (pyproject.toml) ... \u001b[?25l\u001b[?25hdone\n",
            "  Created wheel for EarthOrbitPlan: filename=earthorbitplan-0.1.dev228+gf940aeb74.d20251008-0.editable-py3-none-any.whl size=17714 sha256=418e9fa3facbcd3c1532199607332b2d12c0ac7cb4d83e3138f0c1295cd26b62\n",
            "  Stored in directory: /tmp/pip-ephem-wheel-cache-kwir4v49/wheels/1d/92/cd/037c47599914cffd99dfbe413788d829357403477db4f20fc7\n",
            "Successfully built EarthOrbitPlan\n",
            "Installing collected packages: EarthOrbitPlan\n",
            "  Attempting uninstall: EarthOrbitPlan\n",
            "    Found existing installation: EarthOrbitPlan 0.1.dev228+gf940aeb74.d20251008\n",
            "    Uninstalling EarthOrbitPlan-0.1.dev228+gf940aeb74.d20251008:\n",
            "      Successfully uninstalled EarthOrbitPlan-0.1.dev228+gf940aeb74.d20251008\n",
            "Successfully installed EarthOrbitPlan-0.1.dev228+gf940aeb74.d20251008\n",
            "Environment ready. You can now run the rest of the notebook.\n"
          ]
        }
      ],
      "source": [
        "# --- Installation & Setup (Colab only) ---\n",
        "# Clone our GitHub repository into the Colab environment\n",
        "\n",
        "import sys\n",
        "\n",
        "# Check if the env run under Colab\n",
        "IN_COLAB = \"google.colab\" in sys.modules\n",
        "\n",
        "if IN_COLAB:\n",
        "    !git clone https://github.com/weizmannk/EarthOrbitPlan.git\n",
        "    %cd EarthOrbitPlan\n",
        "    !pip install -e .\n",
        "\n",
        "    print(\"Environment ready. You can now run the rest of the notebook.\")"
      ]
    },
    {
      "cell_type": "code",
      "execution_count": 55,
      "id": "1",
      "metadata": {
        "colab": {
          "base_uri": "https://localhost:8080/",
          "height": 211
        },
        "id": "1",
        "outputId": "87389376-6127-482f-8151-257da43f1187"
      },
      "outputs": [
        {
          "output_type": "error",
          "ename": "FileNotFoundError",
          "evalue": "[Errno 2] No such file or directory: './earthorbitplan/tutorials'",
          "traceback": [
            "\u001b[0;31m---------------------------------------------------------------------------\u001b[0m",
            "\u001b[0;31mFileNotFoundError\u001b[0m                         Traceback (most recent call last)",
            "\u001b[0;32m/tmp/ipython-input-2293981957.py\u001b[0m in \u001b[0;36m<cell line: 0>\u001b[0;34m()\u001b[0m\n\u001b[1;32m      7\u001b[0m \u001b[0;32mif\u001b[0m \u001b[0mIN_COLAB\u001b[0m\u001b[0;34m:\u001b[0m\u001b[0;34m\u001b[0m\u001b[0;34m\u001b[0m\u001b[0m\n\u001b[1;32m      8\u001b[0m     \u001b[0;31m# Go to the \"EarthOrbitPlan/earthorbitplan/tutorials\"\u001b[0m\u001b[0;34m\u001b[0m\u001b[0;34m\u001b[0m\u001b[0m\n\u001b[0;32m----> 9\u001b[0;31m     \u001b[0mos\u001b[0m\u001b[0;34m.\u001b[0m\u001b[0mchdir\u001b[0m\u001b[0;34m(\u001b[0m\u001b[0;34mf\"./earthorbitplan/tutorials\"\u001b[0m\u001b[0;34m)\u001b[0m\u001b[0;34m\u001b[0m\u001b[0;34m\u001b[0m\u001b[0m\n\u001b[0m\u001b[1;32m     10\u001b[0m \u001b[0;34m\u001b[0m\u001b[0m\n\u001b[1;32m     11\u001b[0m     \u001b[0;31m# Check if the 'observing_scenarios.ipynb' is there\u001b[0m\u001b[0;34m\u001b[0m\u001b[0;34m\u001b[0m\u001b[0m\n",
            "\u001b[0;31mFileNotFoundError\u001b[0m: [Errno 2] No such file or directory: './earthorbitplan/tutorials'"
          ]
        }
      ],
      "source": [
        "import os\n",
        "import sys\n",
        "\n",
        "# Check if the env run under Colab\n",
        "IN_COLAB = \"google.colab\" in sys.modules\n",
        "\n",
        "if IN_COLAB:\n",
        "    # Go to the \"EarthOrbitPlan/earthorbitplan/tutorials\"\n",
        "    os.chdir(f\"./earthorbitplan/tutorials\")\n",
        "\n",
        "    # Check if the 'observing_scenarios.ipynb' is there\n",
        "    print(os.listdir())"
      ]
    },
    {
      "cell_type": "code",
      "execution_count": null,
      "id": "2",
      "metadata": {
        "id": "2"
      },
      "outputs": [],
      "source": [
        "import warnings\n",
        "\n",
        "warnings.filterwarnings(\"ignore\", \"Wswiglal-redir-stdio\")\n",
        "warnings.filterwarnings(\"ignore\", \".*dubious year.*\")\n",
        "warnings.filterwarnings(\n",
        "    \"ignore\", \"Tried to get polar motions for times after IERS data is valid.*\"\n",
        ")"
      ]
    },
    {
      "cell_type": "code",
      "execution_count": null,
      "id": "3",
      "metadata": {
        "id": "3"
      },
      "outputs": [],
      "source": [
        "import logging\n",
        "import os\n",
        "import sys\n",
        "import warnings\n",
        "from functools import partial\n",
        "\n",
        "import astropy.units as u\n",
        "import lal.series\n",
        "import numpy as np\n",
        "import requests\n",
        "from astropy import cosmology, units\n",
        "from astropy.table import Table\n",
        "from astropy.units import dimensionless_unscaled\n",
        "from ligo.lw import ligolw\n",
        "from ligo.lw import utils as ligolw_utils\n",
        "from ligo.skymap.bayestar.filter import sngl_inspiral_psd\n",
        "from ligo.skymap.util import progress_map\n",
        "from scipy import integrate, optimize, special, stats\n",
        "from scipy.integrate import fixed_quad, quad\n",
        "from scipy.interpolate import interp1d\n",
        "from scipy.optimize import root_scalar\n",
        "\n",
        "try:\n",
        "    # From astropy >= 7.01\n",
        "    from astropy.cosmology._src.utils import vectorize_redshift_method\n",
        "except ModuleNotFoundError:\n",
        "    # between astropy 5.0 and 7.0.1\n",
        "    from astropy.cosmology._utils import vectorize_redshift_method\n",
        "\n",
        "\n",
        "logging.basicConfig(level=logging.INFO)"
      ]
    },
    {
      "cell_type": "markdown",
      "id": "4",
      "metadata": {
        "id": "4"
      },
      "source": [
        "### Download and prepare GWTC-3 distribustion as farah.h5 file"
      ]
    },
    {
      "cell_type": "code",
      "execution_count": null,
      "id": "5",
      "metadata": {
        "id": "5"
      },
      "outputs": [],
      "source": [
        "def download_file(url, filename):\n",
        "    \"\"\"Download a file from a URL and save it locally.\"\"\"\n",
        "    try:\n",
        "        response = requests.get(url, stream=True)\n",
        "        response.raise_for_status()\n",
        "        with open(filename, \"wb\") as f:\n",
        "            for chunk in response.iter_content(chunk_size=8192):\n",
        "                f.write(chunk)\n",
        "        return filename\n",
        "    except Exception as e:\n",
        "        print(f\"Error downloading file: {e}\")\n",
        "        return None"
      ]
    },
    {
      "cell_type": "markdown",
      "id": "6",
      "metadata": {
        "id": "6"
      },
      "source": [
        "### Define Paths and Filenames"
      ]
    },
    {
      "cell_type": "code",
      "execution_count": 56,
      "id": "7",
      "metadata": {
        "colab": {
          "base_uri": "https://localhost:8080/"
        },
        "id": "7",
        "outputId": "0ae0bb09-a0f4-467e-d0c6-bc009b3faa6f"
      },
      "outputs": [
        {
          "output_type": "stream",
          "name": "stdout",
          "text": [
            "cwd = /content/EarthOrbitPlan/earthorbitplan/tutorials\n",
            "farah.h5 exists? True\n"
          ]
        }
      ],
      "source": [
        "output_dir = \"../../earthorbitplan/scenarios\"\n",
        "farah_file = os.path.join(output_dir, \"farah.h5\")\n",
        "\n",
        "# Create output_dir if it doesn't exist\n",
        "os.makedirs(output_dir, exist_ok=True)\n",
        "\n",
        "print(\"cwd =\", os.getcwd())\n",
        "print(\"farah.h5 exists?\", os.path.exists(farah_file))"
      ]
    },
    {
      "cell_type": "markdown",
      "id": "8",
      "metadata": {
        "id": "8"
      },
      "source": [
        "### Download the File if Needed\n",
        "\n",
        "Download the GWTC-3 PDB file (see https://dcc.ligo.org/LIGO-T2100512/public/)"
      ]
    },
    {
      "cell_type": "code",
      "execution_count": 57,
      "id": "9",
      "metadata": {
        "id": "9"
      },
      "outputs": [],
      "source": [
        "input_file = None\n",
        "if not os.path.exists(farah_file):\n",
        "    file_url = \"https://dcc.ligo.org/LIGO-T2100512/public/O1O2O3all_mass_h_iid_mag_iid_tilt_powerlaw_redshift_maxP_events_all.h5\"\n",
        "    file_name = os.path.join(output_dir, file_url.split(\"/\")[-1])\n",
        "    input_file = download_file(file_url, file_name)\n",
        "\n",
        "    if input_file is None:\n",
        "        logging.error(\"Failed to download the required file.\")\n",
        "        sys.exit(1)"
      ]
    },
    {
      "cell_type": "markdown",
      "id": "10",
      "metadata": {
        "id": "10"
      },
      "source": [
        "### Read, Transform, and Save Data"
      ]
    },
    {
      "cell_type": "code",
      "execution_count": 58,
      "id": "11",
      "metadata": {
        "colab": {
          "base_uri": "https://localhost:8080/"
        },
        "id": "11",
        "outputId": "af10b4aa-2593-4ade-fd36-d6fe7ff25e33"
      },
      "outputs": [
        {
          "output_type": "stream",
          "name": "stdout",
          "text": [
            "farah.h5 already exists at: ../../earthorbitplan/scenarios/farah.h5\n"
          ]
        }
      ],
      "source": [
        "if not os.path.exists(farah_file):\n",
        "    with warnings.catch_warnings():\n",
        "        warnings.simplefilter(\"ignore\")\n",
        "\n",
        "        # Read the original file and save only the relevant columns\n",
        "        data = Table.read()\n",
        "        Table(\n",
        "            {\n",
        "                \"mass1\": data[\"mass_1\"],\n",
        "                \"mass2\": data[\"mass_2\"],\n",
        "                \"spin1z\": data[\"a_1\"] * data[\"cos_tilt_1\"],\n",
        "                \"spin2z\": data[\"a_2\"] * data[\"cos_tilt_2\"],\n",
        "            }\n",
        "        ).write(farah_file, overwrite=True)\n",
        "\n",
        "else:\n",
        "    print(f\"farah.h5 already exists at: {farah_file}\")"
      ]
    },
    {
      "cell_type": "markdown",
      "id": "12",
      "metadata": {
        "id": "12"
      },
      "source": [
        "### Mass threshold for neutron stars"
      ]
    },
    {
      "cell_type": "code",
      "execution_count": 59,
      "id": "13",
      "metadata": {
        "id": "13"
      },
      "outputs": [],
      "source": [
        "ns_mass = 3.0  # Solar masses"
      ]
    },
    {
      "cell_type": "markdown",
      "id": "14",
      "metadata": {
        "id": "14"
      },
      "source": [
        "### Clean Up and Print Statistics"
      ]
    },
    {
      "cell_type": "code",
      "execution_count": 60,
      "id": "15",
      "metadata": {
        "colab": {
          "base_uri": "https://localhost:8080/"
        },
        "id": "15",
        "outputId": "1a2427ee-2e58-4ce7-badd-c045a250538e"
      },
      "outputs": [
        {
          "output_type": "stream",
          "name": "stdout",
          "text": [
            "Summary of Compact Binary Types\n",
            "---------------------------------\n",
            "Number of BNS   : 892762\n",
            "Number of NSBH  : 35962\n",
            "Number of BBH   : 71276\n",
            "---------------------------------\n",
            "\n"
          ]
        }
      ],
      "source": [
        "# Remove the original large file if it exists\n",
        "if input_file is not None and os.path.exists(input_file):\n",
        "    os.remove(input_file)\n",
        "    logging.info(f\"Removed temporary file: {input_file}\")\n",
        "\n",
        "# Reload the processed file\n",
        "if os.path.exists(farah_file):\n",
        "    data = Table.read(farah_file)\n",
        "\n",
        "    # Compute statistics for binary systemsÒÒ\n",
        "    n_bns = len(data[data[\"mass1\"] < ns_mass])\n",
        "    n_nsbh = len(data[(data[\"mass1\"] >= ns_mass) & (data[\"mass2\"] < ns_mass)])\n",
        "    n_bbh = len(data[data[\"mass2\"] >= ns_mass])\n",
        "\n",
        "    output = (\n",
        "        \"Summary of Compact Binary Types\\n\"\n",
        "        \"---------------------------------\\n\"\n",
        "        f\"Number of BNS   : {n_bns}\\n\"\n",
        "        f\"Number of NSBH  : {n_nsbh}\\n\"\n",
        "        f\"Number of BBH   : {n_bbh}\\n\"\n",
        "        \"---------------------------------\\n\"\n",
        "    )\n",
        "    print(output)\n",
        "else:\n",
        "    print(\"farah.h5 not found. Please check the previous steps.\")"
      ]
    },
    {
      "cell_type": "markdown",
      "id": "16",
      "metadata": {
        "id": "16"
      },
      "source": [
        "### SNR Selection Helper"
      ]
    },
    {
      "cell_type": "code",
      "execution_count": 61,
      "id": "17",
      "metadata": {
        "id": "17"
      },
      "outputs": [],
      "source": [
        "def get_decisive_snr(snrs, min_triggers):\n",
        "    \"\"\"\n",
        "    Return the SNR value that decides if an event is detectable (the min_triggers-th highest SNR).\n",
        "\n",
        "    Parameters\n",
        "    ----------\n",
        "    snrs : list or array-like\n",
        "        List of SNRs (floats).\n",
        "    min_triggers : int\n",
        "        Minimum number of triggers to form a coincidence.\n",
        "\n",
        "    Returns\n",
        "    -------\n",
        "    decisive_snr : float\n",
        "        The SNR of the trigger that decides detectability.\n",
        "    \"\"\"\n",
        "    return sorted(snrs)[-min_triggers]"
      ]
    },
    {
      "cell_type": "markdown",
      "id": "18",
      "metadata": {
        "id": "18"
      },
      "source": [
        "## Find First/Last Nonzero"
      ]
    },
    {
      "cell_type": "code",
      "execution_count": 62,
      "id": "19",
      "metadata": {
        "id": "19"
      },
      "outputs": [],
      "source": [
        "def lo_hi_nonzero(x):\n",
        "    \"\"\"Return indices of the first and last nonzero elements of an array.\"\"\"\n",
        "    nonzero = np.flatnonzero(x)\n",
        "    return nonzero[0], nonzero[-1]"
      ]
    },
    {
      "cell_type": "markdown",
      "id": "20",
      "metadata": {
        "id": "20"
      },
      "source": [
        "### GWCosmo Class: Gravitational Wave Cosmology Tools"
      ]
    },
    {
      "cell_type": "markdown",
      "id": "21",
      "metadata": {
        "id": "21"
      },
      "source": [
        "The `GWCosmo` class provides methods to calculate important cosmological figures of merit for gravitational wave (GW) astronomy.\n",
        "Given a cosmological model, it can estimate the maximum observable distance for GW sources, the sensitive volume out to a given redshift, and related quantities."
      ]
    },
    {
      "cell_type": "markdown",
      "id": "22",
      "metadata": {
        "id": "22"
      },
      "source": [
        "### Main Methods\n",
        "\n",
        "- `z_at_snr(...)`:  \n",
        "  Computes the redshift at which a GW source achieves a specific signal-to-noise ratio (SNR) in a detector network.\n",
        "\n",
        "- `get_max_z(...)`:  \n",
        "  Returns the maximum redshift (distance) at which a source can be detected, given the detector sensitivity and source parameters.\n",
        "\n",
        "- `sensitive_volume(z)`:  \n",
        "  Calculates the sensitive comoving volume out to redshift `z`, useful for GW event rate calculations.\n",
        "\n",
        "- `sensitive_distance(z)`:  \n",
        "  Returns the “sensitive distance,” defined such that the sensitive volume equals that of a sphere with radius `d_s(z)`."
      ]
    },
    {
      "cell_type": "code",
      "execution_count": 63,
      "id": "23",
      "metadata": {
        "id": "23"
      },
      "outputs": [],
      "source": [
        "class GWCosmo:\n",
        "    \"\"\"Evaluate GW distance figures of merit for a given cosmology.\n",
        "\n",
        "    Parameters\n",
        "    ----------\n",
        "    cosmo : :class:`astropy.cosmology.FLRW`\n",
        "        The cosmological model.\n",
        "\n",
        "    \"\"\"\n",
        "\n",
        "    def __init__(self, cosmology):\n",
        "        self.cosmo = cosmology\n",
        "\n",
        "    def z_at_snr(\n",
        "        self,\n",
        "        psds,\n",
        "        waveform,\n",
        "        f_low,\n",
        "        snr_threshold,\n",
        "        min_triggers,\n",
        "        mass1,\n",
        "        mass2,\n",
        "        spin1z,\n",
        "        spin2z,\n",
        "    ):\n",
        "        \"\"\"\n",
        "        Get redshift at which a waveform attains a given SNR.\n",
        "\n",
        "        Parameters\n",
        "        ----------\n",
        "        psds : list\n",
        "            List of :class:`lal.REAL8FrequencySeries` objects.\n",
        "        waveform : str\n",
        "            Waveform approximant name.\n",
        "        f_low : float\n",
        "            Low-frequency cutoff for template.\n",
        "        snr_threshold : float\n",
        "            Minimum single-detector SNR.\n",
        "        min_triggers : int\n",
        "            Minimum number of triggers to form a coincidence.\n",
        "        params : list\n",
        "            List of waveform parameters: mass1, mass2, spin1z, spin2z.\n",
        "\n",
        "        Returns\n",
        "        -------\n",
        "        comoving_distance : float\n",
        "            Comoving distance in Mpc.\n",
        "\n",
        "        \"\"\"\n",
        "        # Construct waveform\n",
        "        series = sngl_inspiral_psd(\n",
        "            waveform,\n",
        "            f_low=f_low,\n",
        "            mass1=mass1,\n",
        "            mass2=mass2,\n",
        "            spin1z=spin1z,\n",
        "            spin2z=spin2z,\n",
        "        )\n",
        "        i_lo, i_hi = lo_hi_nonzero(series.data.data)\n",
        "        log_f = np.log(series.f0 + series.deltaF * np.arange(i_lo, i_hi + 1))\n",
        "        log_f_lo = log_f[0]\n",
        "        log_f_hi = log_f[-1]\n",
        "        num = interp1d(\n",
        "            log_f,\n",
        "            np.log(series.data.data[i_lo : i_hi + 1]),\n",
        "            fill_value=-np.inf,\n",
        "            bounds_error=False,\n",
        "            assume_sorted=True,\n",
        "        )\n",
        "\n",
        "        denoms = []\n",
        "        for series in psds:\n",
        "            i_lo, i_hi = lo_hi_nonzero(\n",
        "                np.isfinite(series.data.data) & (series.data.data != 0)\n",
        "            )\n",
        "            log_f = np.log(series.f0 + series.deltaF * np.arange(i_lo, i_hi + 1))\n",
        "            denom = interp1d(\n",
        "                log_f,\n",
        "                log_f - np.log(series.data.data[i_lo : i_hi + 1]),\n",
        "                fill_value=-np.inf,\n",
        "                bounds_error=False,\n",
        "                assume_sorted=True,\n",
        "            )\n",
        "            denoms.append(denom)\n",
        "\n",
        "        def snr_at_z(z):\n",
        "            logzp1 = np.log(z + 1)\n",
        "\n",
        "            def integrand(log_f):\n",
        "                return [np.exp(num(log_f + logzp1) + denom(log_f)) for denom in denoms]\n",
        "\n",
        "            integrals, _ = fixed_quad(integrand, log_f_lo, log_f_hi - logzp1, n=1024)\n",
        "            snr = get_decisive_snr(np.sqrt(4 * integrals), min_triggers)\n",
        "            with np.errstate(divide=\"ignore\"):\n",
        "                snr /= self.cosmo.angular_diameter_distance(z).to_value(units.Mpc)\n",
        "            return snr\n",
        "\n",
        "        def root_func(z):\n",
        "            return snr_at_z(z) - snr_threshold\n",
        "\n",
        "        return root_scalar(root_func, bracket=(0, 1e3)).root\n",
        "\n",
        "    def get_max_z(\n",
        "        self,\n",
        "        psds,\n",
        "        waveform,\n",
        "        f_low,\n",
        "        snr_threshold,\n",
        "        min_triggers,\n",
        "        mass1,\n",
        "        mass2,\n",
        "        spin1z,\n",
        "        spin2z,\n",
        "        jobs=1,\n",
        "    ):\n",
        "        # Calculate the maximum distance on the grid.\n",
        "        params = [mass1, mass2, spin1z, spin2z]\n",
        "        shape = np.broadcast_shapes(*(param.shape for param in params))\n",
        "        result = list(\n",
        "            progress_map(\n",
        "                partial(\n",
        "                    self.z_at_snr, psds, waveform, f_low, snr_threshold, min_triggers\n",
        "                ),\n",
        "                *(param.ravel() for param in params),\n",
        "                jobs=jobs,\n",
        "            )\n",
        "        )\n",
        "        result = np.reshape(result, shape)\n",
        "\n",
        "        assert np.all(result >= 0), \"some redshifts are negative\"\n",
        "        assert np.all(np.isfinite(result)), \"some redshifts are not finite\"\n",
        "        return result\n",
        "\n",
        "    @vectorize_redshift_method\n",
        "    def _sensitive_volume_integral(self, z):\n",
        "        dh3_sr = self.cosmo.hubble_distance**3 / units.sr\n",
        "\n",
        "        def integrand(z):\n",
        "            result = self.cosmo.differential_comoving_volume(z)\n",
        "            result /= (1 + z) * dh3_sr\n",
        "            return result.to_value(dimensionless_unscaled)\n",
        "\n",
        "        result, _ = quad(integrand, 0, z)\n",
        "        return result\n",
        "\n",
        "    def sensitive_volume(self, z):\n",
        "        \"\"\"Sensitive volume :math:`V(z)` out to redshift :math:`z`.\n",
        "\n",
        "        Given a population of events that occur at a constant rate density\n",
        "        :math:`R` per unit comoving volume per unit proper time, the number of\n",
        "        observed events out to a redshift :math:`N(z)` over an observation time\n",
        "        :math:`T` is :math:`N(z) = R T V(z)`.\n",
        "        \"\"\"\n",
        "        dh3 = self.cosmo.hubble_distance**3\n",
        "        return 4 * np.pi * dh3 * self._sensitive_volume_integral(z)\n",
        "\n",
        "    def sensitive_distance(self, z):\n",
        "        r\"\"\"Sensitive distance as a function of redshift :math:`z`.\n",
        "\n",
        "        The sensitive distance is the distance :math:`d_s(z)` defined such that\n",
        "        :math:`V(z) = 4/3\\pi {d_s(z)}^3`, where :math:`V(z)` is the sensitive\n",
        "        volume.\n",
        "        \"\"\"\n",
        "        dh = self.cosmo.hubble_distance\n",
        "        return dh * np.cbrt(3 * self._sensitive_volume_integral(z))"
      ]
    },
    {
      "cell_type": "markdown",
      "id": "24",
      "metadata": {
        "id": "24"
      },
      "source": [
        "### Execution & Example\n",
        "\n",
        "We load the noise Power Spectral Densities (PSDs) from the XML file.\n",
        "These PSDs are used to compute signal-to-noise ratios (SNRs) across detectors.\n",
        "\n",
        "Initialize a new LIGO Light-Weight XML document.\n"
      ]
    },
    {
      "cell_type": "code",
      "execution_count": 64,
      "id": "25",
      "metadata": {
        "id": "25"
      },
      "outputs": [],
      "source": [
        "xmldoc = ligolw.Document()\n",
        "xmlroot = xmldoc.appendChild(ligolw.LIGO_LW())"
      ]
    },
    {
      "cell_type": "code",
      "execution_count": 65,
      "id": "26",
      "metadata": {
        "colab": {
          "base_uri": "https://localhost:8080/"
        },
        "id": "26",
        "outputId": "84065a6e-9a41-4169-dfde-b98962087f35"
      },
      "outputs": [
        {
          "output_type": "execute_result",
          "data": {
            "text/plain": [
              "[<Swig Object of type 'tagREAL8FrequencySeries *' at 0x781f79c4ad30>,\n",
              " <Swig Object of type 'tagREAL8FrequencySeries *' at 0x781f7918ca70>]"
            ]
          },
          "metadata": {},
          "execution_count": 65
        }
      ],
      "source": [
        "reference_psd = f\"{output_dir}/psds.xml\"\n",
        "with open(reference_psd, \"rb\") as f:\n",
        "    xmldoc = ligolw_utils.load_fileobj(f, contenthandler=lal.series.PSDContentHandler)\n",
        "    psds = list(lal.series.read_psd_xmldoc(xmldoc).values())\n",
        "\n",
        "psds"
      ]
    },
    {
      "cell_type": "markdown",
      "id": "27",
      "metadata": {
        "id": "27"
      },
      "source": [
        "### Waveform model\n",
        "\n",
        "We define the waveform model, the low-frequency cutoff, and the detection thresholds."
      ]
    },
    {
      "cell_type": "code",
      "execution_count": 66,
      "id": "28",
      "metadata": {
        "id": "28"
      },
      "outputs": [],
      "source": [
        "waveform = \"IMRPhenomD\"  # Chosen waveform approximant\n",
        "f_low = 25.0  # Low-frequency cutoff in Hz\n",
        "snr_threshold = 1  # SNR threshold for detection\n",
        "min_triggers = 1  # Minimum number of triggers (coincident detectors)\n",
        "jobs = 1  # Number of parallel jobs"
      ]
    },
    {
      "cell_type": "markdown",
      "id": "29",
      "metadata": {
        "id": "29"
      },
      "source": [
        "\n",
        "### GWCosmo\n",
        "\n",
        "We initialize the GWCosmo object with a cosmological model (Planck15 here).\n",
        "\n",
        "This allows us to compute distances and volumes in a cosmological framework."
      ]
    },
    {
      "cell_type": "code",
      "execution_count": 67,
      "id": "30",
      "metadata": {
        "id": "30"
      },
      "outputs": [],
      "source": [
        "gwcosmo = GWCosmo(getattr(cosmology, \"Planck15\"))"
      ]
    },
    {
      "cell_type": "markdown",
      "id": "31",
      "metadata": {
        "id": "31"
      },
      "source": [
        "\n",
        "### GWTC-distribustion\n",
        "\n",
        "We load a subset (first 5) of the binary neutron star / black hole samples\n",
        "\n",
        "from an HDF5 file (`farah.h5`). Each sample includes mass1, mass2, spin1z, spin2z."
      ]
    },
    {
      "cell_type": "code",
      "execution_count": 68,
      "id": "32",
      "metadata": {
        "colab": {
          "base_uri": "https://localhost:8080/",
          "height": 186
        },
        "id": "32",
        "outputId": "3d34b54f-c3ca-4564-cbb8-aa63f0240d06"
      },
      "outputs": [
        {
          "output_type": "execute_result",
          "data": {
            "text/plain": [
              "<Table length=5>\n",
              "      mass1              mass2        ...         spin2z       \n",
              "     float64            float64       ...        float64       \n",
              "------------------ ------------------ ... ---------------------\n",
              "1.6334784673051967 1.3810887548655666 ... -0.012026548338777296\n",
              "2.4116235511053596  2.038928316809099 ...   0.12876640961108698\n",
              "2.3446204414808824 2.1620985552733023 ...   0.20299660662345526\n",
              "1.5224413917381097 1.4464455008707857 ...    0.1648556391943954\n",
              " 2.071907865468317  1.757569633659934 ...  -0.06863285853206544"
            ],
            "text/html": [
              "<div><i>Table length=5</i>\n",
              "<table id=\"table132076002198016\" class=\"table-striped table-bordered table-condensed\">\n",
              "<thead><tr><th>mass1</th><th>mass2</th><th>spin1z</th><th>spin2z</th></tr></thead>\n",
              "<thead><tr><th>float64</th><th>float64</th><th>float64</th><th>float64</th></tr></thead>\n",
              "<tr><td>1.6334784673051967</td><td>1.3810887548655666</td><td>0.0005726141112029242</td><td>-0.012026548338777296</td></tr>\n",
              "<tr><td>2.4116235511053596</td><td>2.038928316809099</td><td>0.09564577831587825</td><td>0.12876640961108698</td></tr>\n",
              "<tr><td>2.3446204414808824</td><td>2.1620985552733023</td><td>-0.0424013188343698</td><td>0.20299660662345526</td></tr>\n",
              "<tr><td>1.5224413917381097</td><td>1.4464455008707857</td><td>0.056652858388635034</td><td>0.1648556391943954</td></tr>\n",
              "<tr><td>2.071907865468317</td><td>1.757569633659934</td><td>0.0721102841575518</td><td>-0.06863285853206544</td></tr>\n",
              "</table></div>"
            ]
          },
          "metadata": {},
          "execution_count": 68
        }
      ],
      "source": [
        "distribution_samples = \"../../earthorbitplan/scenarios/farah.h5\"\n",
        "samples = Table.read(distribution_samples)[0:5]\n",
        "samples"
      ]
    },
    {
      "cell_type": "markdown",
      "id": "33",
      "metadata": {
        "id": "33"
      },
      "source": [
        "### Maximum Redshift\n",
        "\n",
        "Compute the Maximum Redshift (`max_z`) for Each Sample\n",
        "\n",
        "For each sample, we compute the maximum redshift `max_z` at which the SNR exceeds the chosen threshold, using all available PSDs.\n",
        "This approach uses the entire PSD frequency range to ensure accuracy."
      ]
    },
    {
      "cell_type": "code",
      "execution_count": 69,
      "id": "34",
      "metadata": {
        "colab": {
          "base_uri": "https://localhost:8080/",
          "height": 66,
          "referenced_widgets": [
            "5abcdadf7d884fe1846a7cfc112b79c5",
            "887f7fb4f3b0407dbf377f8519fa9ae1",
            "02916d485de24178aa70dd55e6eb8ae7",
            "59f60f2c61e94464ba9af994698b758e",
            "9f587d60dd76429e85d26f9152feb3d8",
            "5e8fb3489cbb4296bc4470ac344ea799",
            "aec48290735d4c5da2c60a99dacf7d44",
            "6f2484107c4946d99d47c50d095e25dc",
            "34b0a35ccb8240b58f7e3bc901e154a2",
            "f44b75c84ad549fc982cc86ff5ecdfea",
            "8335825b8c0e46b0bbf48bb3f2752ec4"
          ]
        },
        "id": "34",
        "outputId": "d5e8e44a-2cc4-49b2-8c52-8ce743e44251"
      },
      "outputs": [
        {
          "output_type": "display_data",
          "data": {
            "text/plain": [
              "  0%|          | 0/5 [00:00<?, ?it/s]"
            ],
            "application/vnd.jupyter.widget-view+json": {
              "version_major": 2,
              "version_minor": 0,
              "model_id": "5abcdadf7d884fe1846a7cfc112b79c5"
            }
          },
          "metadata": {}
        },
        {
          "output_type": "execute_result",
          "data": {
            "text/plain": [
              "array([0.75256201, 1.08404962, 1.09781242, 0.74898647, 0.9362778 ])"
            ]
          },
          "metadata": {},
          "execution_count": 69
        }
      ],
      "source": [
        "max_z = gwcosmo.get_max_z(\n",
        "    psds,\n",
        "    waveform,\n",
        "    f_low,\n",
        "    snr_threshold,\n",
        "    min_triggers,\n",
        "    samples[\"mass1\"],\n",
        "    samples[\"mass2\"],\n",
        "    samples[\"spin1z\"],\n",
        "    samples[\"spin2z\"],\n",
        "    jobs=jobs,\n",
        ")\n",
        "\n",
        "max_z"
      ]
    },
    {
      "cell_type": "markdown",
      "id": "35",
      "metadata": {
        "id": "35"
      },
      "source": [
        "### Comoving Sensitive Distance\n",
        "\n",
        "Convert `max_z` to Comoving Sensitive Distance\n",
        "\n",
        "We convert each value of `max_z` to a comoving sensitive distance (in Mpc) using the cosmological model.\n"
      ]
    },
    {
      "cell_type": "code",
      "execution_count": 70,
      "id": "36",
      "metadata": {
        "colab": {
          "base_uri": "https://localhost:8080/"
        },
        "id": "36",
        "outputId": "2c895f60-adb9-45f7-ae47-d7caafc92ac5"
      },
      "outputs": [
        {
          "output_type": "execute_result",
          "data": {
            "text/plain": [
              "array([2375.95644591, 3002.26751716, 3024.63807083, 2368.16012587,\n",
              "       2745.06292533])"
            ]
          },
          "metadata": {},
          "execution_count": 70
        }
      ],
      "source": [
        "max_distance = gwcosmo.sensitive_distance(max_z).to_value(units.Mpc)\n",
        "max_distance"
      ]
    },
    {
      "cell_type": "markdown",
      "id": "37",
      "metadata": {
        "id": "37"
      },
      "source": [
        "### Probability\n",
        "\n",
        "Compute Detection Volumes and Selection Probabilities\n",
        "\n",
        "- For each sample, use the sensitive distance to calculate the corresponding detection volume:\n",
        "  \n",
        "$$\n",
        "V = \\frac{4}{3}\\pi \\times (\\text{distance})^3\n",
        "$$\n",
        "\n",
        "- These volumes are proportional to each sample's detection probability.\n",
        "- Finally, for each sample, calculate the product `V * T`, where `T` is the observation time"
      ]
    },
    {
      "cell_type": "code",
      "execution_count": 71,
      "id": "38",
      "metadata": {
        "id": "38"
      },
      "outputs": [],
      "source": [
        "# uniform weight per sample, each distance contributes equally at first.\n",
        "probs = 1 / len(max_distance)"
      ]
    },
    {
      "cell_type": "markdown",
      "id": "39",
      "metadata": {
        "id": "39"
      },
      "source": [
        "### From Equal to Volume-Weighted Probabilities\n",
        "\n",
        "- Instead of giving all distances equal probability, we weight each distance by the amount of observable space (volume) at that distance.\n",
        "\n",
        "- Because sources are uniformly distributed in space, a larger volume means a higher chance of containing a source.\n",
        "- Thus, the probability of detecting a source increases with the volume we can observe."
      ]
    },
    {
      "cell_type": "code",
      "execution_count": 72,
      "id": "40",
      "metadata": {
        "colab": {
          "base_uri": "https://localhost:8080/"
        },
        "id": "40",
        "outputId": "929fc4f3-659a-4901-e882-100cfe95d2b3"
      },
      "outputs": [
        {
          "output_type": "stream",
          "name": "stdout",
          "text": [
            "[1.12365770e+10 2.26707959e+10 2.31813566e+10 1.11263264e+10\n",
            " 1.73290804e+10]\n"
          ]
        }
      ],
      "source": [
        "probs *= 4 / 3 * np.pi * max_distance**3\n",
        "print(probs)"
      ]
    },
    {
      "cell_type": "markdown",
      "id": "41",
      "metadata": {
        "id": "41"
      },
      "source": [
        "### Step: Normalize the Probabilities\n",
        "\n",
        "To obtain a valid probability distribution:\n",
        "\n",
        "- We divide each probability (or volume) by the total sum, so that the sum of all probabilities is exactly 1.\n",
        "\n",
        "- This way, the probabilities represent a proper distribution that can be used to randomly draw synthetic events according to their likelihood.\n",
        "\n"
      ]
    },
    {
      "cell_type": "code",
      "execution_count": 73,
      "id": "42",
      "metadata": {
        "colab": {
          "base_uri": "https://localhost:8080/"
        },
        "id": "42",
        "outputId": "de4e13d4-5229-4df2-e2c3-ff0906d3558c"
      },
      "outputs": [
        {
          "output_type": "stream",
          "name": "stdout",
          "text": [
            "Sum of probabilities (before normalization): 85544136367.4484\n",
            "\n",
            "Normalized probabilities:\n",
            " [0.13135415 0.2650187  0.27098709 0.13006533 0.20257473]\n",
            "\n",
            "Sum of normalized probabilities: 1.0\n"
          ]
        }
      ],
      "source": [
        "# Normalize the probabilities so they sum to 1\n",
        "volume_sum = probs.sum()\n",
        "print(\"Sum of probabilities (before normalization):\", volume_sum)\n",
        "\n",
        "probs /= volume_sum  # Element-wise division\n",
        "\n",
        "print(\"\\nNormalized probabilities:\\n\", probs)\n",
        "print(\"\\nSum of normalized probabilities:\", probs.sum())"
      ]
    },
    {
      "cell_type": "markdown",
      "id": "43",
      "metadata": {
        "id": "43"
      },
      "source": [
        "### Samples\n",
        "\n",
        "Simulate events by drawing samples according to their normalized probabilities, using either weighted sampling or a weighted random distribution."
      ]
    },
    {
      "cell_type": "code",
      "execution_count": 74,
      "id": "44",
      "metadata": {
        "colab": {
          "base_uri": "https://localhost:8080/"
        },
        "id": "44",
        "outputId": "8ef2e830-8e5a-44dd-8fc6-16c9921586b6"
      },
      "outputs": [
        {
          "output_type": "execute_result",
          "data": {
            "text/plain": [
              "5"
            ]
          },
          "metadata": {},
          "execution_count": 74
        }
      ],
      "source": [
        "nsamples = len(samples)\n",
        "dist = stats.rv_discrete(values=(np.arange(len(probs)), probs))\n",
        "\n",
        "nsamples"
      ]
    },
    {
      "cell_type": "code",
      "execution_count": 25,
      "id": "45",
      "metadata": {
        "colab": {
          "base_uri": "https://localhost:8080/"
        },
        "id": "45",
        "outputId": "0223dbb7-114d-432d-e6db-7b4d38395bfa"
      },
      "outputs": [
        {
          "output_type": "execute_result",
          "data": {
            "text/plain": [
              "1"
            ]
          },
          "metadata": {},
          "execution_count": 25
        }
      ],
      "source": [
        "n_batches = max(nsamples * len(probs) // 1_000_000_000, 1)\n",
        "batch_sizes = [\n",
        "    len(subarray) for subarray in np.array_split(np.empty(nsamples), n_batches)\n",
        "]\n",
        "\n",
        "n_batches"
      ]
    },
    {
      "cell_type": "markdown",
      "id": "46",
      "metadata": {
        "id": "46"
      },
      "source": [
        "### Random\n",
        "\n",
        "Now, using `dist.rvs()`, we can randomly sample event indices:\n",
        "Indices corresponding to higher probabilities are more likely to be chosen."
      ]
    },
    {
      "cell_type": "code",
      "execution_count": 26,
      "id": "47",
      "metadata": {
        "colab": {
          "base_uri": "https://localhost:8080/"
        },
        "id": "47",
        "outputId": "884f7142-39da-4781-db5c-f1348910f4d6"
      },
      "outputs": [
        {
          "output_type": "execute_result",
          "data": {
            "text/plain": [
              "array([3, 2, 2, 4, 1])"
            ]
          },
          "metadata": {},
          "execution_count": 26
        }
      ],
      "source": [
        "indices = np.concatenate([dist.rvs(size=batch_size) for batch_size in batch_sizes])\n",
        "indices"
      ]
    },
    {
      "cell_type": "markdown",
      "id": "48",
      "metadata": {
        "id": "48"
      },
      "source": [
        "### selected properties\n",
        "\n",
        "The `cols` dictionary now contains only the selected properties (`mass1`, `mass2`, `spin1z`, `spin2z`) for the sampled events.\n",
        "\n",
        "Each entry is an array of values corresponding to your randomly drawn sample indices."
      ]
    },
    {
      "cell_type": "code",
      "execution_count": 27,
      "id": "49",
      "metadata": {
        "colab": {
          "base_uri": "https://localhost:8080/",
          "height": 206
        },
        "id": "49",
        "outputId": "1698a866-d3e4-40a9-8a8a-4970b943dbbc"
      },
      "outputs": [
        {
          "output_type": "execute_result",
          "data": {
            "text/plain": [
              "      mass1     mass2    spin1z    spin2z\n",
              "0  1.522441  1.446446  0.056653  0.164856\n",
              "1  2.344620  2.162099 -0.042401  0.202997\n",
              "2  2.344620  2.162099 -0.042401  0.202997\n",
              "3  2.071908  1.757570  0.072110 -0.068633\n",
              "4  2.411624  2.038928  0.095646  0.128766"
            ],
            "text/html": [
              "\n",
              "  <div id=\"df-48ca2b1f-77cf-40c2-8b57-a261d6a017d7\" class=\"colab-df-container\">\n",
              "    <div>\n",
              "<style scoped>\n",
              "    .dataframe tbody tr th:only-of-type {\n",
              "        vertical-align: middle;\n",
              "    }\n",
              "\n",
              "    .dataframe tbody tr th {\n",
              "        vertical-align: top;\n",
              "    }\n",
              "\n",
              "    .dataframe thead th {\n",
              "        text-align: right;\n",
              "    }\n",
              "</style>\n",
              "<table border=\"1\" class=\"dataframe\">\n",
              "  <thead>\n",
              "    <tr style=\"text-align: right;\">\n",
              "      <th></th>\n",
              "      <th>mass1</th>\n",
              "      <th>mass2</th>\n",
              "      <th>spin1z</th>\n",
              "      <th>spin2z</th>\n",
              "    </tr>\n",
              "  </thead>\n",
              "  <tbody>\n",
              "    <tr>\n",
              "      <th>0</th>\n",
              "      <td>1.522441</td>\n",
              "      <td>1.446446</td>\n",
              "      <td>0.056653</td>\n",
              "      <td>0.164856</td>\n",
              "    </tr>\n",
              "    <tr>\n",
              "      <th>1</th>\n",
              "      <td>2.344620</td>\n",
              "      <td>2.162099</td>\n",
              "      <td>-0.042401</td>\n",
              "      <td>0.202997</td>\n",
              "    </tr>\n",
              "    <tr>\n",
              "      <th>2</th>\n",
              "      <td>2.344620</td>\n",
              "      <td>2.162099</td>\n",
              "      <td>-0.042401</td>\n",
              "      <td>0.202997</td>\n",
              "    </tr>\n",
              "    <tr>\n",
              "      <th>3</th>\n",
              "      <td>2.071908</td>\n",
              "      <td>1.757570</td>\n",
              "      <td>0.072110</td>\n",
              "      <td>-0.068633</td>\n",
              "    </tr>\n",
              "    <tr>\n",
              "      <th>4</th>\n",
              "      <td>2.411624</td>\n",
              "      <td>2.038928</td>\n",
              "      <td>0.095646</td>\n",
              "      <td>0.128766</td>\n",
              "    </tr>\n",
              "  </tbody>\n",
              "</table>\n",
              "</div>\n",
              "    <div class=\"colab-df-buttons\">\n",
              "\n",
              "  <div class=\"colab-df-container\">\n",
              "    <button class=\"colab-df-convert\" onclick=\"convertToInteractive('df-48ca2b1f-77cf-40c2-8b57-a261d6a017d7')\"\n",
              "            title=\"Convert this dataframe to an interactive table.\"\n",
              "            style=\"display:none;\">\n",
              "\n",
              "  <svg xmlns=\"http://www.w3.org/2000/svg\" height=\"24px\" viewBox=\"0 -960 960 960\">\n",
              "    <path d=\"M120-120v-720h720v720H120Zm60-500h600v-160H180v160Zm220 220h160v-160H400v160Zm0 220h160v-160H400v160ZM180-400h160v-160H180v160Zm440 0h160v-160H620v160ZM180-180h160v-160H180v160Zm440 0h160v-160H620v160Z\"/>\n",
              "  </svg>\n",
              "    </button>\n",
              "\n",
              "  <style>\n",
              "    .colab-df-container {\n",
              "      display:flex;\n",
              "      gap: 12px;\n",
              "    }\n",
              "\n",
              "    .colab-df-convert {\n",
              "      background-color: #E8F0FE;\n",
              "      border: none;\n",
              "      border-radius: 50%;\n",
              "      cursor: pointer;\n",
              "      display: none;\n",
              "      fill: #1967D2;\n",
              "      height: 32px;\n",
              "      padding: 0 0 0 0;\n",
              "      width: 32px;\n",
              "    }\n",
              "\n",
              "    .colab-df-convert:hover {\n",
              "      background-color: #E2EBFA;\n",
              "      box-shadow: 0px 1px 2px rgba(60, 64, 67, 0.3), 0px 1px 3px 1px rgba(60, 64, 67, 0.15);\n",
              "      fill: #174EA6;\n",
              "    }\n",
              "\n",
              "    .colab-df-buttons div {\n",
              "      margin-bottom: 4px;\n",
              "    }\n",
              "\n",
              "    [theme=dark] .colab-df-convert {\n",
              "      background-color: #3B4455;\n",
              "      fill: #D2E3FC;\n",
              "    }\n",
              "\n",
              "    [theme=dark] .colab-df-convert:hover {\n",
              "      background-color: #434B5C;\n",
              "      box-shadow: 0px 1px 3px 1px rgba(0, 0, 0, 0.15);\n",
              "      filter: drop-shadow(0px 1px 2px rgba(0, 0, 0, 0.3));\n",
              "      fill: #FFFFFF;\n",
              "    }\n",
              "  </style>\n",
              "\n",
              "    <script>\n",
              "      const buttonEl =\n",
              "        document.querySelector('#df-48ca2b1f-77cf-40c2-8b57-a261d6a017d7 button.colab-df-convert');\n",
              "      buttonEl.style.display =\n",
              "        google.colab.kernel.accessAllowed ? 'block' : 'none';\n",
              "\n",
              "      async function convertToInteractive(key) {\n",
              "        const element = document.querySelector('#df-48ca2b1f-77cf-40c2-8b57-a261d6a017d7');\n",
              "        const dataTable =\n",
              "          await google.colab.kernel.invokeFunction('convertToInteractive',\n",
              "                                                    [key], {});\n",
              "        if (!dataTable) return;\n",
              "\n",
              "        const docLinkHtml = 'Like what you see? Visit the ' +\n",
              "          '<a target=\"_blank\" href=https://colab.research.google.com/notebooks/data_table.ipynb>data table notebook</a>'\n",
              "          + ' to learn more about interactive tables.';\n",
              "        element.innerHTML = '';\n",
              "        dataTable['output_type'] = 'display_data';\n",
              "        await google.colab.output.renderOutput(dataTable, element);\n",
              "        const docLink = document.createElement('div');\n",
              "        docLink.innerHTML = docLinkHtml;\n",
              "        element.appendChild(docLink);\n",
              "      }\n",
              "    </script>\n",
              "  </div>\n",
              "\n",
              "\n",
              "    <div id=\"df-9c22cf81-a2d2-46bc-b271-148d25b0dd3a\">\n",
              "      <button class=\"colab-df-quickchart\" onclick=\"quickchart('df-9c22cf81-a2d2-46bc-b271-148d25b0dd3a')\"\n",
              "                title=\"Suggest charts\"\n",
              "                style=\"display:none;\">\n",
              "\n",
              "<svg xmlns=\"http://www.w3.org/2000/svg\" height=\"24px\"viewBox=\"0 0 24 24\"\n",
              "     width=\"24px\">\n",
              "    <g>\n",
              "        <path d=\"M19 3H5c-1.1 0-2 .9-2 2v14c0 1.1.9 2 2 2h14c1.1 0 2-.9 2-2V5c0-1.1-.9-2-2-2zM9 17H7v-7h2v7zm4 0h-2V7h2v10zm4 0h-2v-4h2v4z\"/>\n",
              "    </g>\n",
              "</svg>\n",
              "      </button>\n",
              "\n",
              "<style>\n",
              "  .colab-df-quickchart {\n",
              "      --bg-color: #E8F0FE;\n",
              "      --fill-color: #1967D2;\n",
              "      --hover-bg-color: #E2EBFA;\n",
              "      --hover-fill-color: #174EA6;\n",
              "      --disabled-fill-color: #AAA;\n",
              "      --disabled-bg-color: #DDD;\n",
              "  }\n",
              "\n",
              "  [theme=dark] .colab-df-quickchart {\n",
              "      --bg-color: #3B4455;\n",
              "      --fill-color: #D2E3FC;\n",
              "      --hover-bg-color: #434B5C;\n",
              "      --hover-fill-color: #FFFFFF;\n",
              "      --disabled-bg-color: #3B4455;\n",
              "      --disabled-fill-color: #666;\n",
              "  }\n",
              "\n",
              "  .colab-df-quickchart {\n",
              "    background-color: var(--bg-color);\n",
              "    border: none;\n",
              "    border-radius: 50%;\n",
              "    cursor: pointer;\n",
              "    display: none;\n",
              "    fill: var(--fill-color);\n",
              "    height: 32px;\n",
              "    padding: 0;\n",
              "    width: 32px;\n",
              "  }\n",
              "\n",
              "  .colab-df-quickchart:hover {\n",
              "    background-color: var(--hover-bg-color);\n",
              "    box-shadow: 0 1px 2px rgba(60, 64, 67, 0.3), 0 1px 3px 1px rgba(60, 64, 67, 0.15);\n",
              "    fill: var(--button-hover-fill-color);\n",
              "  }\n",
              "\n",
              "  .colab-df-quickchart-complete:disabled,\n",
              "  .colab-df-quickchart-complete:disabled:hover {\n",
              "    background-color: var(--disabled-bg-color);\n",
              "    fill: var(--disabled-fill-color);\n",
              "    box-shadow: none;\n",
              "  }\n",
              "\n",
              "  .colab-df-spinner {\n",
              "    border: 2px solid var(--fill-color);\n",
              "    border-color: transparent;\n",
              "    border-bottom-color: var(--fill-color);\n",
              "    animation:\n",
              "      spin 1s steps(1) infinite;\n",
              "  }\n",
              "\n",
              "  @keyframes spin {\n",
              "    0% {\n",
              "      border-color: transparent;\n",
              "      border-bottom-color: var(--fill-color);\n",
              "      border-left-color: var(--fill-color);\n",
              "    }\n",
              "    20% {\n",
              "      border-color: transparent;\n",
              "      border-left-color: var(--fill-color);\n",
              "      border-top-color: var(--fill-color);\n",
              "    }\n",
              "    30% {\n",
              "      border-color: transparent;\n",
              "      border-left-color: var(--fill-color);\n",
              "      border-top-color: var(--fill-color);\n",
              "      border-right-color: var(--fill-color);\n",
              "    }\n",
              "    40% {\n",
              "      border-color: transparent;\n",
              "      border-right-color: var(--fill-color);\n",
              "      border-top-color: var(--fill-color);\n",
              "    }\n",
              "    60% {\n",
              "      border-color: transparent;\n",
              "      border-right-color: var(--fill-color);\n",
              "    }\n",
              "    80% {\n",
              "      border-color: transparent;\n",
              "      border-right-color: var(--fill-color);\n",
              "      border-bottom-color: var(--fill-color);\n",
              "    }\n",
              "    90% {\n",
              "      border-color: transparent;\n",
              "      border-bottom-color: var(--fill-color);\n",
              "    }\n",
              "  }\n",
              "</style>\n",
              "\n",
              "      <script>\n",
              "        async function quickchart(key) {\n",
              "          const quickchartButtonEl =\n",
              "            document.querySelector('#' + key + ' button');\n",
              "          quickchartButtonEl.disabled = true;  // To prevent multiple clicks.\n",
              "          quickchartButtonEl.classList.add('colab-df-spinner');\n",
              "          try {\n",
              "            const charts = await google.colab.kernel.invokeFunction(\n",
              "                'suggestCharts', [key], {});\n",
              "          } catch (error) {\n",
              "            console.error('Error during call to suggestCharts:', error);\n",
              "          }\n",
              "          quickchartButtonEl.classList.remove('colab-df-spinner');\n",
              "          quickchartButtonEl.classList.add('colab-df-quickchart-complete');\n",
              "        }\n",
              "        (() => {\n",
              "          let quickchartButtonEl =\n",
              "            document.querySelector('#df-9c22cf81-a2d2-46bc-b271-148d25b0dd3a button');\n",
              "          quickchartButtonEl.style.display =\n",
              "            google.colab.kernel.accessAllowed ? 'block' : 'none';\n",
              "        })();\n",
              "      </script>\n",
              "    </div>\n",
              "\n",
              "    </div>\n",
              "  </div>\n"
            ],
            "application/vnd.google.colaboratory.intrinsic+json": {
              "type": "dataframe",
              "summary": "{\n  \"name\": \"pd\",\n  \"rows\": 5,\n  \"fields\": [\n    {\n      \"column\": \"mass1\",\n      \"properties\": {\n        \"dtype\": \"number\",\n        \"std\": 0.3686220948790058,\n        \"min\": 1.5224413917381097,\n        \"max\": 2.4116235511053596,\n        \"num_unique_values\": 4,\n        \"samples\": [\n          2.3446204414808824,\n          2.4116235511053596,\n          1.5224413917381097\n        ],\n        \"semantic_type\": \"\",\n        \"description\": \"\"\n      }\n    },\n    {\n      \"column\": \"mass2\",\n      \"properties\": {\n        \"dtype\": \"number\",\n        \"std\": 0.3089453448792144,\n        \"min\": 1.4464455008707857,\n        \"max\": 2.1620985552733023,\n        \"num_unique_values\": 4,\n        \"samples\": [\n          2.1620985552733023,\n          2.038928316809099,\n          1.4464455008707857\n        ],\n        \"semantic_type\": \"\",\n        \"description\": \"\"\n      }\n    },\n    {\n      \"column\": \"spin1z\",\n      \"properties\": {\n        \"dtype\": \"number\",\n        \"std\": 0.06567974415851606,\n        \"min\": -0.0424013188343698,\n        \"max\": 0.09564577831587825,\n        \"num_unique_values\": 4,\n        \"samples\": [\n          -0.0424013188343698,\n          0.09564577831587825,\n          0.056652858388635034\n        ],\n        \"semantic_type\": \"\",\n        \"description\": \"\"\n      }\n    },\n    {\n      \"column\": \"spin2z\",\n      \"properties\": {\n        \"dtype\": \"number\",\n        \"std\": 0.11319907815373678,\n        \"min\": -0.06863285853206544,\n        \"max\": 0.20299660662345526,\n        \"num_unique_values\": 4,\n        \"samples\": [\n          0.20299660662345526,\n          0.12876640961108698,\n          0.1648556391943954\n        ],\n        \"semantic_type\": \"\",\n        \"description\": \"\"\n      }\n    }\n  ]\n}"
            }
          },
          "metadata": {},
          "execution_count": 27
        }
      ],
      "source": [
        "# Select columns for the sampled events, keeping only the desired keys\n",
        "import pandas as pd\n",
        "\n",
        "cols = {key: samples[key][indices] for key in [\"mass1\", \"mass2\", \"spin1z\", \"spin2z\"]}\n",
        "pd.DataFrame(cols)  # Display the dictionary of selected columns"
      ]
    },
    {
      "cell_type": "markdown",
      "id": "50",
      "metadata": {
        "id": "50"
      },
      "source": [
        "### Calculate the Volumetric Rate\n",
        "\n",
        "We estimate the volumetric event rate by dividing the number of simulated events by the total sensitive volume,\n",
        "\n",
        "and express the result in units of events per year per cubic megaparsec (yr⁻¹ Mpc⁻³)."
      ]
    },
    {
      "cell_type": "code",
      "execution_count": 28,
      "id": "51",
      "metadata": {
        "colab": {
          "base_uri": "https://localhost:8080/",
          "height": 40
        },
        "id": "51",
        "outputId": "c80ca086-8bd7-484d-9502-d5cf3d85015f"
      },
      "outputs": [
        {
          "output_type": "execute_result",
          "data": {
            "text/plain": [
              "<Quantity 5.84493597e-11 1 / (yr Mpc3)>"
            ],
            "text/latex": "$5.844936 \\times 10^{-11} \\; \\mathrm{\\frac{1}{yr\\,Mpc^{3}}}$"
          },
          "metadata": {},
          "execution_count": 28
        }
      ],
      "source": [
        "volumetric_rate = nsamples / volume_sum * units.year**-1 * units.Mpc**-3\n",
        "volumetric_rate"
      ]
    },
    {
      "cell_type": "code",
      "execution_count": 29,
      "id": "52",
      "metadata": {
        "colab": {
          "base_uri": "https://localhost:8080/"
        },
        "id": "52",
        "outputId": "253208e5-e5da-4b38-a06a-cb576e5a37b0"
      },
      "outputs": [
        {
          "output_type": "execute_result",
          "data": {
            "text/plain": [
              "array([1920.41579514,  797.90914419, 1406.43506441, 2355.67728726,\n",
              "       2732.11675288])"
            ]
          },
          "metadata": {},
          "execution_count": 29
        }
      ],
      "source": [
        "# Draw random extrinsic parameters\n",
        "distance = stats.powerlaw(a=3, scale=max_distance[indices]).rvs(size=nsamples)\n",
        "distance"
      ]
    },
    {
      "cell_type": "markdown",
      "id": "53",
      "metadata": {
        "id": "53"
      },
      "source": [
        "# Processing with All Simulations\n",
        "\n",
        "After processing all the simulations, we will consider the new observing scenarios based on the GWTC-3 catalog.\n",
        "\n",
        "We need to standardize our rate base on the initial distribution rate"
      ]
    },
    {
      "cell_type": "code",
      "execution_count": 30,
      "id": "54",
      "metadata": {
        "colab": {
          "base_uri": "https://localhost:8080/",
          "height": 143
        },
        "id": "54",
        "outputId": "4ff6e7e1-3acb-4c06-90a5-788903b01137"
      },
      "outputs": [
        {
          "output_type": "execute_result",
          "data": {
            "text/plain": [
              "<Table length=3>\n",
              "population  lower    mid    upper \n",
              "   str4    float64 float64 float64\n",
              "---------- ------- ------- -------\n",
              "       BNS   100.0   240.0   510.0\n",
              "      NSBH   100.0   240.0   510.0\n",
              "       BBH   100.0   240.0   510.0"
            ],
            "text/html": [
              "<div><i>Table length=3</i>\n",
              "<table id=\"table132075682117728\" class=\"table-striped table-bordered table-condensed\">\n",
              "<thead><tr><th>population</th><th>lower</th><th>mid</th><th>upper</th></tr></thead>\n",
              "<thead><tr><th>str4</th><th>float64</th><th>float64</th><th>float64</th></tr></thead>\n",
              "<tr><td>BNS</td><td>100.0</td><td>240.0</td><td>510.0</td></tr>\n",
              "<tr><td>NSBH</td><td>100.0</td><td>240.0</td><td>510.0</td></tr>\n",
              "<tr><td>BBH</td><td>100.0</td><td>240.0</td><td>510.0</td></tr>\n",
              "</table></div>"
            ]
          },
          "metadata": {},
          "execution_count": 30
        }
      ],
      "source": [
        "# Lower 5% and upper 95% quantiles of log-normal distribution for different CBC populations\n",
        "run_names = [\"O4\", \"O5\"]\n",
        "rates_table = Table(\n",
        "    [\n",
        "        # Quantiles from O3 R&P paper Table II, row 1, last column\n",
        "        {\"population\": \"BNS\", \"lower\": 100.0, \"mid\": 240.0, \"upper\": 510.0},\n",
        "        {\"population\": \"NSBH\", \"lower\": 100.0, \"mid\": 240.0, \"upper\": 510.0},\n",
        "        {\"population\": \"BBH\", \"lower\": 100.0, \"mid\": 240.0, \"upper\": 510.0},\n",
        "    ]\n",
        ")\n",
        "\n",
        "rates_table"
      ]
    },
    {
      "cell_type": "markdown",
      "id": "55",
      "metadata": {
        "id": "55"
      },
      "source": [
        "### Splitting Compact Binary Populations\n",
        "\n",
        "To classify events as BNS (Binary Neutron Star), NSBH (Neutron Star–Black Hole), or BBH (Binary Black Hole),  \n",
        "we use an upper/lower mass limit of 3 solar masses to distinguish neutron stars (NS) from black holes (BH).\n"
      ]
    },
    {
      "cell_type": "code",
      "execution_count": 31,
      "id": "56",
      "metadata": {
        "id": "56"
      },
      "outputs": [],
      "source": [
        "ns_max_mass = 3.0"
      ]
    },
    {
      "cell_type": "markdown",
      "id": "57",
      "metadata": {
        "id": "57"
      },
      "source": [
        "### Injection Summary\n",
        "\n",
        "We injected a total of **1 million** compact binary coalescences (CBCs), consisting of:\n",
        "\n",
        "- **892,762** binary neutron stars (BNS)\n",
        "\n",
        "- **35,962** neutron star–black hole binaries (NSBH)\n",
        "\n",
        "- **71,276** binary black holes (BBH)"
      ]
    },
    {
      "cell_type": "code",
      "execution_count": 32,
      "id": "58",
      "metadata": {
        "colab": {
          "base_uri": "https://localhost:8080/",
          "height": 143
        },
        "id": "58",
        "outputId": "69c18e7d-bfe0-4dad-c2d8-6f2a0e2563e7"
      },
      "outputs": [
        {
          "output_type": "execute_result",
          "data": {
            "text/plain": [
              "<Table length=3>\n",
              "population  lower    mid    upper  mass_fraction\n",
              "   str4    float64 float64 float64    float64   \n",
              "---------- ------- ------- ------- -------------\n",
              "       BNS   100.0   240.0   510.0      0.892762\n",
              "      NSBH   100.0   240.0   510.0      0.035962\n",
              "       BBH   100.0   240.0   510.0      0.071276"
            ],
            "text/html": [
              "<div><i>Table length=3</i>\n",
              "<table id=\"table132075682117728\" class=\"table-striped table-bordered table-condensed\">\n",
              "<thead><tr><th>population</th><th>lower</th><th>mid</th><th>upper</th><th>mass_fraction</th></tr></thead>\n",
              "<thead><tr><th>str4</th><th>float64</th><th>float64</th><th>float64</th><th>float64</th></tr></thead>\n",
              "<tr><td>BNS</td><td>100.0</td><td>240.0</td><td>510.0</td><td>0.892762</td></tr>\n",
              "<tr><td>NSBH</td><td>100.0</td><td>240.0</td><td>510.0</td><td>0.035962</td></tr>\n",
              "<tr><td>BBH</td><td>100.0</td><td>240.0</td><td>510.0</td><td>0.071276</td></tr>\n",
              "</table></div>"
            ]
          },
          "metadata": {},
          "execution_count": 32
        }
      ],
      "source": [
        "# Calculate the mass fraction for each CBC population (BNS, NSBH, BBH)\n",
        "# by dividing the population count by the total number of CBCs (1 million)\n",
        "rates_table[\"mass_fraction\"] = (\n",
        "    np.array([892762, 35962, 71276]) / 1e6\n",
        ")  # Total CBCs = 1 million\n",
        "\n",
        "\n",
        "rates_table"
      ]
    },
    {
      "cell_type": "markdown",
      "id": "59",
      "metadata": {
        "id": "59"
      },
      "source": [
        "### === Simulated BNS Merger Rates ===\n",
        "In observing scenarios data there is a file sqlite  file \"sqlite3 events.sqlite\" where we can read the\n",
        "the simulation Merger rate, for that use this command line in terminal or import sqlite with python\n",
        "\n",
        " Use this command to retrieve comments:\n",
        "\n",
        " 1- $ sqlite3 events.sqlite\n",
        "\n",
        " 2- $ select comment from process;\n",
        "\n",
        "For example: The simulated CBC merger rate in yr^-1 Gpc^-3 for O5 and O6-HLVK configuration with (SNR = 10)\n",
        "\n",
        "From kiendrebeogo et al. 2023 the simulated rate is given by the by (yr^-1 Mpc^-3)\n",
        "\n",
        "so this need to be convert in yr^-1 Gpc^-3, before add use it here.\n",
        "\n",
        "simulation rate  sim_rate =2.712359951521142e3 (u.Gpc**-3 * u.yr**-1)"
      ]
    },
    {
      "cell_type": "markdown",
      "id": "60",
      "metadata": {
        "id": "60"
      },
      "source": [
        "### === Simulated BNS Merger Rates ===\n",
        "\n",
        "In the observing scenario data, there is an SQLite file called `events.sqlite` containing the simulated merger rates.\n",
        "\n",
        "You can access the merger rate comments using either the command line or Python:\n",
        "\n",
        "**Command-line (SQLite):**\n",
        "1. Open the database:\n",
        "\n",
        "    $ sqlite3 events.sqlite\n",
        "\n",
        "2. Retrieve the merger rate comments:\n",
        "\n",
        "    sqlite> select comment from process;\n",
        "\n",
        "\n",
        "For example: The simulated CBC merger rate in yr^-1 Gpc^-3 for O5 and O6-HLVK configuration with (SNR = 10)\n",
        "\n",
        "From kiendrebeogo et al. 2023 the simulated rate is given by the by (yr^-1 Mpc^-3)\n",
        "\n",
        "so this need to be convert in yr^-1 Gpc^-3, before add use it here."
      ]
    },
    {
      "cell_type": "code",
      "execution_count": 33,
      "id": "61",
      "metadata": {
        "colab": {
          "base_uri": "https://localhost:8080/"
        },
        "id": "61",
        "outputId": "2111f372-4fe2-476a-9ddb-890968ddb595"
      },
      "outputs": [
        {
          "output_type": "execute_result",
          "data": {
            "text/plain": [
              "(<Column name='sim_rate_O4' dtype='float64' unit='1 / (yr Gpc3)' length=3>\n",
              " 6546.207600000001\n",
              " 6546.207600000001\n",
              " 6546.207600000001,\n",
              " <Column name='sim_rate_O5' dtype='float64' unit='1 / (yr Gpc3)' length=3>\n",
              " 2712.35995\n",
              " 2712.35995\n",
              " 2712.35995)"
            ]
          },
          "metadata": {},
          "execution_count": 33
        }
      ],
      "source": [
        "# Here BNS, BBH and NSBH have the same simulation rates as they have been simulated together.\n",
        "rates_table[\"sim_rate_O4\"] = [6.5462076e-06, 6.5462076e-06, 6.5462076e-06] * (\n",
        "    1 / (u.Mpc**3 * u.yr)\n",
        ")\n",
        "rates_table[\"sim_rate_O5\"] = [2.71235995e-06, 2.71235995e-06, 2.71235995e-06] * (\n",
        "    1 / (u.Mpc**3 * u.yr)\n",
        ")\n",
        "\n",
        "# Conversion in Gpc^-3/ yr\n",
        "rates_table[\"sim_rate_O4\"] = rates_table[\"sim_rate_O4\"].to(u.Gpc**-3 * u.yr**-1)\n",
        "rates_table[\"sim_rate_O5\"] = rates_table[\"sim_rate_O5\"].to(u.Gpc**-3 * u.yr**-1)\n",
        "\n",
        "rates_table[\"sim_rate_O4\"], rates_table[\"sim_rate_O5\"]"
      ]
    },
    {
      "cell_type": "markdown",
      "id": "62",
      "metadata": {
        "id": "62"
      },
      "source": [
        "### Add the expected number of detections for O4 and O5\n",
        "\n",
        "Here the SNR threshold to confirm a detection is 8.\n",
        "\n",
        "So all those event have a signal noise ratio > 8"
      ]
    },
    {
      "cell_type": "code",
      "execution_count": 34,
      "id": "63",
      "metadata": {
        "colab": {
          "base_uri": "https://localhost:8080/",
          "height": 165
        },
        "id": "63",
        "outputId": "c20a0810-b614-4a1a-ce34-019bd715c948"
      },
      "outputs": [
        {
          "output_type": "execute_result",
          "data": {
            "text/plain": [
              "<Table length=3>\n",
              "population  lower    mid   ... detection_number_O4 detection_number_O5\n",
              "                           ...                                        \n",
              "   str4    float64 float64 ...        int64               int64       \n",
              "---------- ------- ------- ... ------------------- -------------------\n",
              "       BNS   100.0   240.0 ...                1004                  20\n",
              "      NSBH   100.0   240.0 ...                 184                 356\n",
              "       BBH   100.0   240.0 ...                7070                9809"
            ],
            "text/html": [
              "<div><i>Table length=3</i>\n",
              "<table id=\"table132075682117728\" class=\"table-striped table-bordered table-condensed\">\n",
              "<thead><tr><th>population</th><th>lower</th><th>mid</th><th>upper</th><th>mass_fraction</th><th>sim_rate_O4</th><th>sim_rate_O5</th><th>detection_number_O4</th><th>detection_number_O5</th></tr></thead>\n",
              "<thead><tr><th></th><th></th><th></th><th></th><th></th><th>1 / (yr Gpc3)</th><th>1 / (yr Gpc3)</th><th></th><th></th></tr></thead>\n",
              "<thead><tr><th>str4</th><th>float64</th><th>float64</th><th>float64</th><th>float64</th><th>float64</th><th>float64</th><th>int64</th><th>int64</th></tr></thead>\n",
              "<tr><td>BNS</td><td>100.0</td><td>240.0</td><td>510.0</td><td>0.892762</td><td>6546.207600000001</td><td>2712.35995</td><td>1004</td><td>20</td></tr>\n",
              "<tr><td>NSBH</td><td>100.0</td><td>240.0</td><td>510.0</td><td>0.035962</td><td>6546.207600000001</td><td>2712.35995</td><td>184</td><td>356</td></tr>\n",
              "<tr><td>BBH</td><td>100.0</td><td>240.0</td><td>510.0</td><td>0.071276</td><td>6546.207600000001</td><td>2712.35995</td><td>7070</td><td>9809</td></tr>\n",
              "</table></div>"
            ]
          },
          "metadata": {},
          "execution_count": 34
        }
      ],
      "source": [
        "rates_table[\"detection_number_O4\"] = np.array([1004, 184, 7070])\n",
        "rates_table[\"detection_number_O5\"] = np.array([20, 356, 9809])\n",
        "\n",
        "rates_table"
      ]
    },
    {
      "cell_type": "markdown",
      "id": "64",
      "metadata": {
        "id": "64"
      },
      "source": [
        "### Scaling Quantiles by Mass Fraction\n",
        "\n",
        "For each CBC population, we scale the lower, median, and upper event rate quantiles by `mass_fraction` column.\n",
        "\n",
        "This can be used, for example, to focus on a sub-population or a fraction of events relevant to a specific analysis.\n",
        "\n",
        "> **Note:** Make sure that the `mass_fraction` column exists and has appropriate values (between 0 and 1).\n"
      ]
    },
    {
      "cell_type": "code",
      "execution_count": 35,
      "id": "65",
      "metadata": {
        "colab": {
          "base_uri": "https://localhost:8080/",
          "height": 165
        },
        "id": "65",
        "outputId": "0e8156a0-cbf4-4a6a-d267-846395babe4d"
      },
      "outputs": [
        {
          "output_type": "execute_result",
          "data": {
            "text/plain": [
              "<Table length=3>\n",
              "population       lower       ... detection_number_O4 detection_number_O5\n",
              "                             ...                                        \n",
              "   str4         float64      ...        int64               int64       \n",
              "---------- ----------------- ... ------------------- -------------------\n",
              "       BNS 89.27619999999999 ...                1004                  20\n",
              "      NSBH            3.5962 ...                 184                 356\n",
              "       BBH 7.127600000000001 ...                7070                9809"
            ],
            "text/html": [
              "<div><i>Table length=3</i>\n",
              "<table id=\"table132075682117728\" class=\"table-striped table-bordered table-condensed\">\n",
              "<thead><tr><th>population</th><th>lower</th><th>mid</th><th>upper</th><th>mass_fraction</th><th>sim_rate_O4</th><th>sim_rate_O5</th><th>detection_number_O4</th><th>detection_number_O5</th></tr></thead>\n",
              "<thead><tr><th></th><th></th><th></th><th></th><th></th><th>1 / (yr Gpc3)</th><th>1 / (yr Gpc3)</th><th></th><th></th></tr></thead>\n",
              "<thead><tr><th>str4</th><th>float64</th><th>float64</th><th>float64</th><th>float64</th><th>float64</th><th>float64</th><th>int64</th><th>int64</th></tr></thead>\n",
              "<tr><td>BNS</td><td>89.27619999999999</td><td>214.26288</td><td>455.30861999999996</td><td>0.892762</td><td>6546.207600000001</td><td>2712.35995</td><td>1004</td><td>20</td></tr>\n",
              "<tr><td>NSBH</td><td>3.5962</td><td>8.63088</td><td>18.34062</td><td>0.035962</td><td>6546.207600000001</td><td>2712.35995</td><td>184</td><td>356</td></tr>\n",
              "<tr><td>BBH</td><td>7.127600000000001</td><td>17.10624</td><td>36.35076</td><td>0.071276</td><td>6546.207600000001</td><td>2712.35995</td><td>7070</td><td>9809</td></tr>\n",
              "</table></div>"
            ]
          },
          "metadata": {},
          "execution_count": 35
        }
      ],
      "source": [
        "for key in [\"lower\", \"mid\", \"upper\"]:\n",
        "    rates_table[key] *= rates_table[\"mass_fraction\"]\n",
        "\n",
        "rates_table"
      ]
    },
    {
      "cell_type": "markdown",
      "id": "66",
      "metadata": {
        "id": "66"
      },
      "source": [
        "### Compute Log-normal Parameters from Quantiles\n",
        "\n",
        "For each population, we calculate the mean (`mu`) and standard deviation (`sigma`) of the underlying log-normal distribution.\n",
        "- `mu` is the mean of the logarithm of the median event rate.\n",
        "- `sigma` is set so that the interval between the lower and upper quantile matches the standard width of a 90% normal interval (from 5% to 95% quantile).\n",
        "\n",
        "This is useful for statistical modeling or simulations where log-normal priors are assumed for event rates.\n"
      ]
    },
    {
      "cell_type": "code",
      "execution_count": 36,
      "id": "67",
      "metadata": {
        "colab": {
          "base_uri": "https://localhost:8080/",
          "height": 165
        },
        "id": "67",
        "outputId": "a02c53da-0052-46e0-bbfa-89ba61b471ad"
      },
      "outputs": [
        {
          "output_type": "execute_result",
          "data": {
            "text/plain": [
              "<Table length=3>\n",
              "population       lower       ...         mu                sigma       \n",
              "                             ...                                       \n",
              "   str4         float64      ...      float64             float64      \n",
              "---------- ----------------- ... ------------------ -------------------\n",
              "       BNS 89.27619999999999 ...  5.367203672357068 0.49525395847832065\n",
              "      NSBH            3.5962 ...    2.1553464697693 0.49525395847832093\n",
              "       BBH 7.127600000000001 ... 2.8394433092250226  0.4952539584783208"
            ],
            "text/html": [
              "<div><i>Table length=3</i>\n",
              "<table id=\"table132075682117728\" class=\"table-striped table-bordered table-condensed\">\n",
              "<thead><tr><th>population</th><th>lower</th><th>mid</th><th>upper</th><th>mass_fraction</th><th>sim_rate_O4</th><th>sim_rate_O5</th><th>detection_number_O4</th><th>detection_number_O5</th><th>mu</th><th>sigma</th></tr></thead>\n",
              "<thead><tr><th></th><th></th><th></th><th></th><th></th><th>1 / (yr Gpc3)</th><th>1 / (yr Gpc3)</th><th></th><th></th><th></th><th></th></tr></thead>\n",
              "<thead><tr><th>str4</th><th>float64</th><th>float64</th><th>float64</th><th>float64</th><th>float64</th><th>float64</th><th>int64</th><th>int64</th><th>float64</th><th>float64</th></tr></thead>\n",
              "<tr><td>BNS</td><td>89.27619999999999</td><td>214.26288</td><td>455.30861999999996</td><td>0.892762</td><td>6546.207600000001</td><td>2712.35995</td><td>1004</td><td>20</td><td>5.367203672357068</td><td>0.49525395847832065</td></tr>\n",
              "<tr><td>NSBH</td><td>3.5962</td><td>8.63088</td><td>18.34062</td><td>0.035962</td><td>6546.207600000001</td><td>2712.35995</td><td>184</td><td>356</td><td>2.1553464697693</td><td>0.49525395847832093</td></tr>\n",
              "<tr><td>BBH</td><td>7.127600000000001</td><td>17.10624</td><td>36.35076</td><td>0.071276</td><td>6546.207600000001</td><td>2712.35995</td><td>7070</td><td>9809</td><td>2.8394433092250226</td><td>0.4952539584783208</td></tr>\n",
              "</table></div>"
            ]
          },
          "metadata": {},
          "execution_count": 36
        }
      ],
      "source": [
        "(standard_90pct_interval,) = np.diff(stats.norm.interval(0.9))\n",
        "rates_table[\"mu\"] = np.log(rates_table[\"mid\"])\n",
        "rates_table[\"sigma\"] = (\n",
        "    np.log(rates_table[\"upper\"]) - np.log(rates_table[\"lower\"])\n",
        ") / standard_90pct_interval\n",
        "\n",
        "rates_table"
      ]
    },
    {
      "cell_type": "code",
      "execution_count": 37,
      "id": "68",
      "metadata": {
        "colab": {
          "base_uri": "https://localhost:8080/"
        },
        "id": "68",
        "outputId": "c7779e5e-8054-471e-916c-820fe570f7f5"
      },
      "outputs": [
        {
          "output_type": "execute_result",
          "data": {
            "text/plain": [
              "(array([5.36720367, 2.15534647, 2.83944331]),\n",
              " array([0.49525396, 0.49525396, 0.49525396]))"
            ]
          },
          "metadata": {},
          "execution_count": 37
        }
      ],
      "source": [
        "# Extract the log-normal parameters for each population as numpy arrays\n",
        "fiducial_log_rates = np.asarray(rates_table[\"mu\"])\n",
        "fiducial_log_rate_errs = np.asarray(rates_table[\"sigma\"])\n",
        "\n",
        "fiducial_log_rates, fiducial_log_rate_errs"
      ]
    },
    {
      "cell_type": "markdown",
      "id": "69",
      "metadata": {
        "id": "69"
      },
      "source": [
        "### Add Log-normal Parameters to the Table\n",
        "\n",
        "For convenience, we add the log-normal mean (`fiducial_log_rate`) and standard deviation (`fiducial_log_rate_err`) as new columns in the `rates_table`.  \n",
        "This keeps all relevant parameters together and makes the table easy to use for further analysis or plotting.\n"
      ]
    },
    {
      "cell_type": "code",
      "execution_count": 38,
      "id": "70",
      "metadata": {
        "colab": {
          "base_uri": "https://localhost:8080/",
          "height": 185
        },
        "id": "70",
        "outputId": "a089813b-d89c-423f-bd3a-2105307f2f1a"
      },
      "outputs": [
        {
          "output_type": "execute_result",
          "data": {
            "text/plain": [
              "<Table length=3>\n",
              "population       lower       ... fiducial_log_rate  fiducial_log_rate_err\n",
              "                             ...                                         \n",
              "   str4         float64      ...      float64              float64       \n",
              "---------- ----------------- ... ------------------ ---------------------\n",
              "       BNS 89.27619999999999 ...  5.367203672357068   0.49525395847832065\n",
              "      NSBH            3.5962 ...    2.1553464697693   0.49525395847832093\n",
              "       BBH 7.127600000000001 ... 2.8394433092250226    0.4952539584783208"
            ],
            "text/html": [
              "<div><i>Table length=3</i>\n",
              "<table id=\"table132075682117728\" class=\"table-striped table-bordered table-condensed\">\n",
              "<thead><tr><th>population</th><th>lower</th><th>mid</th><th>upper</th><th>mass_fraction</th><th>sim_rate_O4</th><th>sim_rate_O5</th><th>detection_number_O4</th><th>detection_number_O5</th><th>mu</th><th>sigma</th><th>fiducial_log_rate</th><th>fiducial_log_rate_err</th></tr></thead>\n",
              "<thead><tr><th></th><th></th><th></th><th></th><th></th><th>1 / (yr Gpc3)</th><th>1 / (yr Gpc3)</th><th></th><th></th><th></th><th></th><th></th><th></th></tr></thead>\n",
              "<thead><tr><th>str4</th><th>float64</th><th>float64</th><th>float64</th><th>float64</th><th>float64</th><th>float64</th><th>int64</th><th>int64</th><th>float64</th><th>float64</th><th>float64</th><th>float64</th></tr></thead>\n",
              "<tr><td>BNS</td><td>89.27619999999999</td><td>214.26288</td><td>455.30861999999996</td><td>0.892762</td><td>6546.207600000001</td><td>2712.35995</td><td>1004</td><td>20</td><td>5.367203672357068</td><td>0.49525395847832065</td><td>5.367203672357068</td><td>0.49525395847832065</td></tr>\n",
              "<tr><td>NSBH</td><td>3.5962</td><td>8.63088</td><td>18.34062</td><td>0.035962</td><td>6546.207600000001</td><td>2712.35995</td><td>184</td><td>356</td><td>2.1553464697693</td><td>0.49525395847832093</td><td>2.1553464697693</td><td>0.49525395847832093</td></tr>\n",
              "<tr><td>BBH</td><td>7.127600000000001</td><td>17.10624</td><td>36.35076</td><td>0.071276</td><td>6546.207600000001</td><td>2712.35995</td><td>7070</td><td>9809</td><td>2.8394433092250226</td><td>0.4952539584783208</td><td>2.8394433092250226</td><td>0.4952539584783208</td></tr>\n",
              "</table></div>"
            ]
          },
          "metadata": {},
          "execution_count": 38
        }
      ],
      "source": [
        "rates_table[\"fiducial_log_rate\"] = fiducial_log_rates\n",
        "rates_table[\"fiducial_log_rate_err\"] = fiducial_log_rate_errs\n",
        "\n",
        "rates_table"
      ]
    },
    {
      "cell_type": "markdown",
      "id": "71",
      "metadata": {
        "id": "71"
      },
      "source": [
        "### Functions for propagating errors in rates\n",
        "\n",
        "Reproduced from https://github.com/lpsinger/observing-scenarios-simulations/blob/main/plots-and-tables.ipynb."
      ]
    },
    {
      "cell_type": "code",
      "execution_count": 39,
      "id": "72",
      "metadata": {
        "id": "72"
      },
      "outputs": [],
      "source": [
        "def betabinom_k_n(k, n):\n",
        "    return stats.betabinom(n, k + 1, n - k + 1)\n",
        "\n",
        "\n",
        "@np.vectorize\n",
        "def poisson_lognormal_rate_cdf(k, mu, sigma):\n",
        "    lognorm_pdf = stats.lognorm(s=sigma, scale=np.exp(mu)).pdf\n",
        "\n",
        "    def func(lam):\n",
        "        prior = lognorm_pdf(lam)\n",
        "        # poisson_pdf = np.exp(special.xlogy(k, lam) - special.gammaln(k + 1) - lam)\n",
        "        poisson_cdf = special.gammaincc(k + 1, lam)\n",
        "        return poisson_cdf * prior\n",
        "\n",
        "    # Marginalize over lambda.\n",
        "    #\n",
        "    # Note that we use scipy.integrate.odeint instead\n",
        "    # of scipy.integrate.quad because it is important for the stability of\n",
        "    # root_scalar below that we calculate the pdf and the cdf at the same time,\n",
        "    # using the same exact quadrature rule.\n",
        "    cdf, _ = integrate.quad(func, 0, np.inf, epsabs=0)\n",
        "    return cdf\n",
        "\n",
        "\n",
        "@np.vectorize\n",
        "def poisson_lognormal_rate_quantiles(p, mu, sigma):\n",
        "    \"\"\"Find the quantiles of a Poisson distribution with\n",
        "    a log-normal prior on its rate.\n",
        "\n",
        "    Parameters\n",
        "    ----------\n",
        "    p : float\n",
        "        The quantiles at which to find the number of counts.\n",
        "    mu : float\n",
        "        The mean of the log of the rate.\n",
        "    sigma : float\n",
        "        The standard deviation of the log of the rate.\n",
        "\n",
        "    Returns\n",
        "    -------\n",
        "    k : float\n",
        "        The number of events.\n",
        "\n",
        "    Notes\n",
        "    -----\n",
        "    This algorithm treats the Poisson count k as a continuous\n",
        "    real variable so that it can use the scipy.optimize.root_scalar\n",
        "    root finding/polishing algorithms.\n",
        "    \"\"\"\n",
        "\n",
        "    def func(k):\n",
        "        return poisson_lognormal_rate_cdf(k, mu, sigma) - p\n",
        "\n",
        "    if func(0) >= 0:\n",
        "        return 0\n",
        "\n",
        "    result = optimize.root_scalar(func, bracket=[0, 1e6])\n",
        "    return result.root\n",
        "\n",
        "\n",
        "def format_with_errorbars(mid, lo, hi):\n",
        "    plus = hi - mid\n",
        "    minus = mid - lo\n",
        "    smallest = min(max(0, plus), max(0, minus))\n",
        "\n",
        "    if smallest == 0:\n",
        "        return str(mid), \"0\", \"0\"\n",
        "    decimals = 1 - int(np.floor(np.log10(smallest)))\n",
        "\n",
        "    if all(np.issubdtype(type(_), np.integer) for _ in (mid, lo, hi)):\n",
        "        decimals = min(decimals, 0)\n",
        "\n",
        "    plus, minus, mid = np.round([plus, minus, mid], decimals)\n",
        "    if decimals > 0:\n",
        "        fstring = \"%%.0%df\" % decimals\n",
        "    else:\n",
        "        fstring = \"%d\"\n",
        "    return [fstring % _ for _ in [mid, minus, plus]]"
      ]
    },
    {
      "cell_type": "markdown",
      "id": "73",
      "metadata": {
        "id": "73"
      },
      "source": [
        "### Set Probability Quantiles and Run Duration\n",
        "\n",
        "- `prob_quantiles` defines the lower (5%), median (50%), and upper (95%) quantiles used for statistical calculations.\n",
        "- `run_duration` is the duration of the observing run in years.  \n",
        "You can adjust this value if you need rates for a different observation period.\n"
      ]
    },
    {
      "cell_type": "code",
      "execution_count": 40,
      "id": "74",
      "metadata": {
        "id": "74"
      },
      "outputs": [],
      "source": [
        "prob_quantiles = np.asarray([0.05, 0.5, 0.95])\n",
        "run_duration = 1.0  # years"
      ]
    },
    {
      "cell_type": "markdown",
      "id": "75",
      "metadata": {
        "id": "75"
      },
      "source": [
        "### Detection Number Quantiles Table\n",
        "\n",
        "This block computes the 5%, 50%, and 95% quantiles for the expected number of detections for each CBC population and run, based on log-normal statistics.\n",
        "\n",
        "**Table columns:**\n",
        "- `run`: Observing run (e.g., O4, O5)\n",
        "- `population`: Source type (BNS, NSBH, BBH)\n",
        "- `lo`, `mid`, `hi`: Lower, median, and upper quantiles for the expected number of detections\n"
      ]
    },
    {
      "cell_type": "code",
      "execution_count": 41,
      "id": "76",
      "metadata": {
        "colab": {
          "base_uri": "https://localhost:8080/"
        },
        "id": "76",
        "outputId": "5002e94a-4015-4f09-9145-6d5901b8d049"
      },
      "outputs": [
        {
          "output_type": "execute_result",
          "data": {
            "text/plain": [
              "{'O4': {'low': {'BNS': '22', 'NSBH': '5', 'BBH': '150'},\n",
              "  'mid': {'BNS': '36', 'NSBH': '6', 'BBH': '260'},\n",
              "  'high': {'BNS': '49', 'NSBH': '11', 'BBH': '330'}},\n",
              " 'O5': {'low': {'BNS': '1', 'NSBH': '20', 'BBH': '480'},\n",
              "  'mid': {'BNS': '1', 'NSBH': '31', 'BBH': '870'},\n",
              "  'high': {'BNS': '3', 'NSBH': '42', 'BBH': '1100'}}}"
            ]
          },
          "metadata": {},
          "execution_count": 41
        }
      ],
      "source": [
        "results = {}\n",
        "for run_name in run_names:\n",
        "    results[run_name] = {}\n",
        "\n",
        "    for pop in [\"BNS\", \"NSBH\", \"BBH\"]:\n",
        "        rates_row = rates_table[rates_table[\"population\"] == pop]\n",
        "        rate = rates_row[f\"sim_rate_{run_name}\"] * rates_row[\"mass_fraction\"]\n",
        "\n",
        "        mu = (\n",
        "            rates_row[\"fiducial_log_rate\"]\n",
        "            + np.log(run_duration)\n",
        "            + np.log(rates_row[f\"detection_number_{run_name}\"] / rate)\n",
        "        )\n",
        "        sigma = rates_row[\"fiducial_log_rate_err\"]\n",
        "\n",
        "        lo, mid, hi = poisson_lognormal_rate_quantiles(prob_quantiles, mu, sigma)\n",
        "\n",
        "        lo = int(np.floor(lo))\n",
        "        mid = int(np.round(mid))\n",
        "        hi = int(np.ceil(hi))\n",
        "\n",
        "        mid, lo, hi = format_with_errorbars(mid, lo, hi)\n",
        "\n",
        "        results[run_name].setdefault(\"low\", {})[pop] = lo\n",
        "        results[run_name].setdefault(\"mid\", {})[pop] = mid\n",
        "        results[run_name].setdefault(\"high\", {})[pop] = hi\n",
        "\n",
        "results"
      ]
    },
    {
      "cell_type": "code",
      "execution_count": 42,
      "id": "77",
      "metadata": {
        "colab": {
          "base_uri": "https://localhost:8080/",
          "height": 207
        },
        "id": "77",
        "outputId": "a266f15f-e6af-4906-cf68-5e66bdb548a1"
      },
      "outputs": [
        {
          "output_type": "execute_result",
          "data": {
            "text/plain": [
              "<Table length=6>\n",
              "run  population low  mid   high\n",
              "str2    str4    str4 str3  str5\n",
              "---- ---------- ---- ---- -----\n",
              "  O4        BNS  -22   36   +49\n",
              "  O4       NSBH   -5    6   +11\n",
              "  O4        BBH -150  260  +330\n",
              "  O5        BNS   -1    1    +3\n",
              "  O5       NSBH  -20   31   +42\n",
              "  O5        BBH -480  870 +1100"
            ],
            "text/html": [
              "<div><i>Table length=6</i>\n",
              "<table id=\"table132075612061824\" class=\"table-striped table-bordered table-condensed\">\n",
              "<thead><tr><th>run</th><th>population</th><th>low</th><th>mid</th><th>high</th></tr></thead>\n",
              "<thead><tr><th>str2</th><th>str4</th><th>str4</th><th>str3</th><th>str5</th></tr></thead>\n",
              "<tr><td>O4</td><td>BNS</td><td>-22</td><td>36</td><td>+49</td></tr>\n",
              "<tr><td>O4</td><td>NSBH</td><td>-5</td><td>6</td><td>+11</td></tr>\n",
              "<tr><td>O4</td><td>BBH</td><td>-150</td><td>260</td><td>+330</td></tr>\n",
              "<tr><td>O5</td><td>BNS</td><td>-1</td><td>1</td><td>+3</td></tr>\n",
              "<tr><td>O5</td><td>NSBH</td><td>-20</td><td>31</td><td>+42</td></tr>\n",
              "<tr><td>O5</td><td>BBH</td><td>-480</td><td>870</td><td>+1100</td></tr>\n",
              "</table></div>"
            ]
          },
          "metadata": {},
          "execution_count": 42
        }
      ],
      "source": [
        "rows = []\n",
        "for run_name, run_stats in results.items():\n",
        "    for pop in run_stats[\"mid\"]:\n",
        "        rows.append(\n",
        "            {\n",
        "                \"run\": run_name,\n",
        "                \"population\": pop,\n",
        "                \"low\": f\"-{run_stats['low'][pop]}\",\n",
        "                \"mid\": run_stats[\"mid\"][pop],\n",
        "                \"high\": f\"+{run_stats['high'][pop]}\",\n",
        "            }\n",
        "        )\n",
        "\n",
        "results_table = Table(rows=rows, names=(\"run\", \"population\", \"low\", \"mid\", \"high\"))\n",
        "\n",
        "results_table"
      ]
    },
    {
      "cell_type": "code",
      "execution_count": 43,
      "id": "78",
      "metadata": {
        "colab": {
          "base_uri": "https://localhost:8080/"
        },
        "id": "78",
        "outputId": "8fd5fac6-726e-4f50-b6e4-c7f7ab6ee84d"
      },
      "outputs": [
        {
          "output_type": "stream",
          "name": "stdout",
          "text": [
            "\n",
            " Observing Run O4 : Annual number of detections\n",
            "===============================================\n",
            "run population low  mid high\n",
            "--- ---------- ---- --- ----\n",
            " O4        BNS  -22  36  +49\n",
            " O4       NSBH   -5   6  +11\n",
            " O4        BBH -150 260 +330\n",
            "===============================================\n",
            "\n",
            " Observing Run O5 : Annual number of detections\n",
            "===============================================\n",
            "run population low  mid  high\n",
            "--- ---------- ---- --- -----\n",
            " O5        BNS   -1   1    +3\n",
            " O5       NSBH  -20  31   +42\n",
            " O5        BBH -480 870 +1100\n",
            "===============================================\n"
          ]
        }
      ],
      "source": [
        "# display by run\n",
        "for run_name in sorted(set(results_table[\"run\"])):\n",
        "    print(f\"\\n Observing Run {run_name} : Annual number of detections\")\n",
        "    print(\"=\" * 47)\n",
        "    print(results_table[results_table[\"run\"] == run_name])\n",
        "    print(\"=\" * 47)"
      ]
    },
    {
      "cell_type": "markdown",
      "id": "79",
      "metadata": {
        "id": "79"
      },
      "source": []
    },
    {
      "cell_type": "markdown",
      "id": "80",
      "metadata": {
        "id": "80"
      },
      "source": [
        "### For Petrov et al. 2O22 , design as LRR distribustion,\n",
        "\n",
        "the BNS , NSBH and BBH as consider as a population not a sub-pospulation from CBC ,\n",
        "\n",
        "In fact we simulate each population independently to the other ones, so 1 million each.\n",
        "\n",
        "This means there is no longer a mass fraction or simply means the mass fraction is 1 because as we simulate each population at one time.\n",
        "This"
      ]
    },
    {
      "cell_type": "code",
      "execution_count": 44,
      "id": "81",
      "metadata": {
        "colab": {
          "base_uri": "https://localhost:8080/",
          "height": 143
        },
        "id": "81",
        "outputId": "804575a3-d625-4d2c-b5b9-d60da3174118"
      },
      "outputs": [
        {
          "output_type": "execute_result",
          "data": {
            "text/plain": [
              "<Table length=3>\n",
              "population  lower    mid    upper \n",
              "   str4    float64 float64 float64\n",
              "---------- ------- ------- -------\n",
              "       BNS    80.0   320.0   810.0\n",
              "      NSBH    61.0   130.0   242.0\n",
              "       BBH    15.3    23.9    38.2"
            ],
            "text/html": [
              "<div><i>Table length=3</i>\n",
              "<table id=\"table132075612478912\" class=\"table-striped table-bordered table-condensed\">\n",
              "<thead><tr><th>population</th><th>lower</th><th>mid</th><th>upper</th></tr></thead>\n",
              "<thead><tr><th>str4</th><th>float64</th><th>float64</th><th>float64</th></tr></thead>\n",
              "<tr><td>BNS</td><td>80.0</td><td>320.0</td><td>810.0</td></tr>\n",
              "<tr><td>NSBH</td><td>61.0</td><td>130.0</td><td>242.0</td></tr>\n",
              "<tr><td>BBH</td><td>15.3</td><td>23.9</td><td>38.2</td></tr>\n",
              "</table></div>"
            ]
          },
          "metadata": {},
          "execution_count": 44
        }
      ],
      "source": [
        "# Lower 5% and upper 95% quantiles of log-normal distribution for different CBC populations\n",
        "run_names = [\"O4\", \"O5\"]\n",
        "rates_table = Table(\n",
        "    [\n",
        "        # BNS rate from GWTC-2\n",
        "        # https://doi.org/10.3847/2041-8213/abe949\n",
        "        {\"population\": \"BNS\", \"lower\": 80.00, \"mid\": 320.0, \"upper\": 810.0},\n",
        "        # NSBH rate from GW200105 and GW200115 paper\n",
        "        # https://doi.org/10.3847/2041-8213/ac082e\n",
        "        {\"population\": \"NSBH\", \"lower\": 61.0, \"mid\": 130.0, \"upper\": 242.0},\n",
        "        # BBH rate from GWTC-2\n",
        "        # https://doi.org/10.3847/2041-8213/abe949\n",
        "        {\"population\": \"BBH\", \"lower\": 15.3, \"mid\": 23.9, \"upper\": 38.2},\n",
        "    ]\n",
        ")\n",
        "\n",
        "rates_table"
      ]
    },
    {
      "cell_type": "code",
      "execution_count": 45,
      "id": "82",
      "metadata": {
        "colab": {
          "base_uri": "https://localhost:8080/",
          "height": 143
        },
        "id": "82",
        "outputId": "7f95a3d0-75f9-4a4e-bdc3-8e4604590386"
      },
      "outputs": [
        {
          "output_type": "execute_result",
          "data": {
            "text/plain": [
              "<Table length=3>\n",
              "population  lower    mid    upper  detection_number_O4 detection_number_O5\n",
              "   str4    float64 float64 float64        int64               int64       \n",
              "---------- ------- ------- ------- ------------------- -------------------\n",
              "       BNS    80.0   320.0   810.0                1482                1482\n",
              "      NSBH    61.0   130.0   242.0                2492                2492\n",
              "       BBH    15.3    23.9    38.2                6040                6040"
            ],
            "text/html": [
              "<div><i>Table length=3</i>\n",
              "<table id=\"table132075612478912\" class=\"table-striped table-bordered table-condensed\">\n",
              "<thead><tr><th>population</th><th>lower</th><th>mid</th><th>upper</th><th>detection_number_O4</th><th>detection_number_O5</th></tr></thead>\n",
              "<thead><tr><th>str4</th><th>float64</th><th>float64</th><th>float64</th><th>int64</th><th>int64</th></tr></thead>\n",
              "<tr><td>BNS</td><td>80.0</td><td>320.0</td><td>810.0</td><td>1482</td><td>1482</td></tr>\n",
              "<tr><td>NSBH</td><td>61.0</td><td>130.0</td><td>242.0</td><td>2492</td><td>2492</td></tr>\n",
              "<tr><td>BBH</td><td>15.3</td><td>23.9</td><td>38.2</td><td>6040</td><td>6040</td></tr>\n",
              "</table></div>"
            ]
          },
          "metadata": {},
          "execution_count": 45
        }
      ],
      "source": [
        "rates_table[\"detection_number_O4\"] = np.array(\n",
        "    [1482, 2492, 6040]\n",
        ")  # np.array([1482, 2492, 6040])\n",
        "rates_table[\"detection_number_O5\"] = np.array(\n",
        "    [1482, 2492, 6040]\n",
        ")  # np.array([2307, 5441, 21559])\n",
        "\n",
        "rates_table"
      ]
    },
    {
      "cell_type": "code",
      "execution_count": 46,
      "id": "83",
      "metadata": {
        "colab": {
          "base_uri": "https://localhost:8080/"
        },
        "id": "83",
        "outputId": "e845733e-a36c-447e-ab42-74f62a378a98"
      },
      "outputs": [
        {
          "output_type": "execute_result",
          "data": {
            "text/plain": [
              "(<Column name='sim_rate_O4' dtype='float64' unit='1 / (yr Gpc3)' length=3>\n",
              " 13598.513465134649\n",
              "  4462.124683568845\n",
              " 1355.9875568260693,\n",
              " <Column name='sim_rate_O5' dtype='float64' unit='1 / (yr Gpc3)' length=3>\n",
              "  3908.209488939609\n",
              " 1952.4639435773054\n",
              " 1080.6507866022996)"
            ]
          },
          "metadata": {},
          "execution_count": 46
        }
      ],
      "source": [
        "rates_table[\"sim_rate_O4\"] = [\n",
        "    1.3598513465134647e-05,\n",
        "    4.462124683568844e-06,\n",
        "    1.355987556826069e-06,\n",
        "] * (1 / (u.Mpc**3 * u.yr))\n",
        "rates_table[\"sim_rate_O5\"] = [\n",
        "    3.908209488939608e-06,\n",
        "    1.952463943577305e-06,\n",
        "    1.0806507866022996e-06,\n",
        "] * (1 / (u.Mpc**3 * u.yr))\n",
        "\n",
        "\n",
        "# Conversion in Gpc^-3/ yr\n",
        "rates_table[\"sim_rate_O4\"] = rates_table[\"sim_rate_O4\"].to(u.Gpc**-3 * u.yr**-1)\n",
        "rates_table[\"sim_rate_O5\"] = rates_table[\"sim_rate_O5\"].to(u.Gpc**-3 * u.yr**-1)\n",
        "\n",
        "\n",
        "rates_table[\"sim_rate_O4\"], rates_table[\"sim_rate_O5\"]"
      ]
    },
    {
      "cell_type": "code",
      "execution_count": 47,
      "id": "84",
      "metadata": {
        "colab": {
          "base_uri": "https://localhost:8080/",
          "height": 165
        },
        "id": "84",
        "outputId": "6c58a024-c20a-4dc5-b0bb-bdce59ac5426"
      },
      "outputs": [
        {
          "output_type": "execute_result",
          "data": {
            "text/plain": [
              "<Table length=3>\n",
              "population  lower    mid   ...         mu               sigma       \n",
              "                           ...                                      \n",
              "   str4    float64 float64 ...      float64            float64      \n",
              "---------- ------- ------- ... ----------------- -------------------\n",
              "       BNS    80.0   320.0 ... 5.768320995793772  0.7037123471233048\n",
              "      NSBH    61.0   130.0 ... 4.867534450455582 0.41890166985175514\n",
              "       BBH    15.3    23.9 ... 3.173878458937465  0.2781349878864127"
            ],
            "text/html": [
              "<div><i>Table length=3</i>\n",
              "<table id=\"table132075612478912\" class=\"table-striped table-bordered table-condensed\">\n",
              "<thead><tr><th>population</th><th>lower</th><th>mid</th><th>upper</th><th>detection_number_O4</th><th>detection_number_O5</th><th>sim_rate_O4</th><th>sim_rate_O5</th><th>mu</th><th>sigma</th></tr></thead>\n",
              "<thead><tr><th></th><th></th><th></th><th></th><th></th><th></th><th>1 / (yr Gpc3)</th><th>1 / (yr Gpc3)</th><th></th><th></th></tr></thead>\n",
              "<thead><tr><th>str4</th><th>float64</th><th>float64</th><th>float64</th><th>int64</th><th>int64</th><th>float64</th><th>float64</th><th>float64</th><th>float64</th></tr></thead>\n",
              "<tr><td>BNS</td><td>80.0</td><td>320.0</td><td>810.0</td><td>1482</td><td>1482</td><td>13598.513465134649</td><td>3908.209488939609</td><td>5.768320995793772</td><td>0.7037123471233048</td></tr>\n",
              "<tr><td>NSBH</td><td>61.0</td><td>130.0</td><td>242.0</td><td>2492</td><td>2492</td><td>4462.124683568845</td><td>1952.4639435773054</td><td>4.867534450455582</td><td>0.41890166985175514</td></tr>\n",
              "<tr><td>BBH</td><td>15.3</td><td>23.9</td><td>38.2</td><td>6040</td><td>6040</td><td>1355.9875568260693</td><td>1080.6507866022996</td><td>3.173878458937465</td><td>0.2781349878864127</td></tr>\n",
              "</table></div>"
            ]
          },
          "metadata": {},
          "execution_count": 47
        }
      ],
      "source": [
        "(standard_90pct_interval,) = np.diff(stats.norm.interval(0.9))\n",
        "rates_table[\"mu\"] = np.log(rates_table[\"mid\"])\n",
        "rates_table[\"sigma\"] = (\n",
        "    np.log(rates_table[\"upper\"]) - np.log(rates_table[\"lower\"])\n",
        ") / standard_90pct_interval\n",
        "\n",
        "rates_table"
      ]
    },
    {
      "cell_type": "code",
      "execution_count": 48,
      "id": "85",
      "metadata": {
        "colab": {
          "base_uri": "https://localhost:8080/"
        },
        "id": "85",
        "outputId": "81fd87a3-31c3-4d10-f6e1-1abaa30f5338"
      },
      "outputs": [
        {
          "output_type": "execute_result",
          "data": {
            "text/plain": [
              "(array([5.768321  , 4.86753445, 3.17387846]),\n",
              " array([0.70371235, 0.41890167, 0.27813499]))"
            ]
          },
          "metadata": {},
          "execution_count": 48
        }
      ],
      "source": [
        "# Extract the log-normal parameters for each population as numpy arrays\n",
        "fiducial_log_rates = np.asarray(rates_table[\"mu\"])\n",
        "fiducial_log_rate_errs = np.asarray(rates_table[\"sigma\"])\n",
        "\n",
        "fiducial_log_rates, fiducial_log_rate_errs"
      ]
    },
    {
      "cell_type": "code",
      "execution_count": 49,
      "id": "86",
      "metadata": {
        "colab": {
          "base_uri": "https://localhost:8080/",
          "height": 165
        },
        "id": "86",
        "outputId": "add8a6b5-866f-4a05-d508-7fd0df79be07"
      },
      "outputs": [
        {
          "output_type": "execute_result",
          "data": {
            "text/plain": [
              "<Table length=3>\n",
              "population  lower    mid   ... fiducial_log_rate fiducial_log_rate_err\n",
              "                           ...                                        \n",
              "   str4    float64 float64 ...      float64             float64       \n",
              "---------- ------- ------- ... ----------------- ---------------------\n",
              "       BNS    80.0   320.0 ... 5.768320995793772    0.7037123471233048\n",
              "      NSBH    61.0   130.0 ... 4.867534450455582   0.41890166985175514\n",
              "       BBH    15.3    23.9 ... 3.173878458937465    0.2781349878864127"
            ],
            "text/html": [
              "<div><i>Table length=3</i>\n",
              "<table id=\"table132075612478912\" class=\"table-striped table-bordered table-condensed\">\n",
              "<thead><tr><th>population</th><th>lower</th><th>mid</th><th>upper</th><th>detection_number_O4</th><th>detection_number_O5</th><th>sim_rate_O4</th><th>sim_rate_O5</th><th>mu</th><th>sigma</th><th>fiducial_log_rate</th><th>fiducial_log_rate_err</th></tr></thead>\n",
              "<thead><tr><th></th><th></th><th></th><th></th><th></th><th></th><th>1 / (yr Gpc3)</th><th>1 / (yr Gpc3)</th><th></th><th></th><th></th><th></th></tr></thead>\n",
              "<thead><tr><th>str4</th><th>float64</th><th>float64</th><th>float64</th><th>int64</th><th>int64</th><th>float64</th><th>float64</th><th>float64</th><th>float64</th><th>float64</th><th>float64</th></tr></thead>\n",
              "<tr><td>BNS</td><td>80.0</td><td>320.0</td><td>810.0</td><td>1482</td><td>1482</td><td>13598.513465134649</td><td>3908.209488939609</td><td>5.768320995793772</td><td>0.7037123471233048</td><td>5.768320995793772</td><td>0.7037123471233048</td></tr>\n",
              "<tr><td>NSBH</td><td>61.0</td><td>130.0</td><td>242.0</td><td>2492</td><td>2492</td><td>4462.124683568845</td><td>1952.4639435773054</td><td>4.867534450455582</td><td>0.41890166985175514</td><td>4.867534450455582</td><td>0.41890166985175514</td></tr>\n",
              "<tr><td>BBH</td><td>15.3</td><td>23.9</td><td>38.2</td><td>6040</td><td>6040</td><td>1355.9875568260693</td><td>1080.6507866022996</td><td>3.173878458937465</td><td>0.2781349878864127</td><td>3.173878458937465</td><td>0.2781349878864127</td></tr>\n",
              "</table></div>"
            ]
          },
          "metadata": {},
          "execution_count": 49
        }
      ],
      "source": [
        "rates_table[\"fiducial_log_rate\"] = fiducial_log_rates\n",
        "rates_table[\"fiducial_log_rate_err\"] = fiducial_log_rate_errs\n",
        "\n",
        "rates_table"
      ]
    },
    {
      "cell_type": "code",
      "execution_count": 50,
      "id": "87",
      "metadata": {
        "id": "87"
      },
      "outputs": [],
      "source": [
        "prob_quantiles = np.asarray([0.05, 0.5, 0.95])\n",
        "run_duration = 1.0  # years"
      ]
    },
    {
      "cell_type": "code",
      "execution_count": 51,
      "id": "88",
      "metadata": {
        "colab": {
          "base_uri": "https://localhost:8080/"
        },
        "id": "88",
        "outputId": "4aef0b66-9899-465a-f343-9084ff9a2145"
      },
      "outputs": [
        {
          "output_type": "stream",
          "name": "stdout",
          "text": [
            "9.330892345522338 34.3640927188856 111.63172036081173\n",
            "34.05143319981825 72.0894882442789 146.04995420420497\n",
            "64.03864903155096 105.93977687481468 170.6130780949588\n",
            "36.47773869034989 120.84149874646533 386.78283971276085\n",
            "80.86942043846229 165.4178941249246 331.938374030011\n",
            "81.18152626715556 133.06745735748203 213.48390190868318\n"
          ]
        }
      ],
      "source": [
        "results = {}\n",
        "for run_name in run_names:\n",
        "    results[run_name] = {}\n",
        "\n",
        "    for pop in [\"BNS\", \"NSBH\", \"BBH\"]:\n",
        "        rates_row = rates_table[rates_table[\"population\"] == pop]\n",
        "        rate = rates_row[f\"sim_rate_{run_name}\"]  # here  rates_row['mass_fraction'] = 1\n",
        "\n",
        "        mu = (\n",
        "            rates_row[\"fiducial_log_rate\"]\n",
        "            + np.log(run_duration)\n",
        "            + np.log(rates_row[f\"detection_number_{run_name}\"] / rate)\n",
        "        )\n",
        "        sigma = rates_row[\"fiducial_log_rate_err\"]\n",
        "\n",
        "        lo, mid, hi = poisson_lognormal_rate_quantiles(prob_quantiles, mu, sigma)\n",
        "        print(lo, mid, hi)\n",
        "        lo = int(np.floor(lo))\n",
        "        mid = int(np.round(mid))\n",
        "        hi = int(np.ceil(hi))\n",
        "\n",
        "        mid, lo, hi = format_with_errorbars(mid, lo, hi)\n",
        "\n",
        "        results[run_name].setdefault(\"low\", {})[pop] = lo\n",
        "        results[run_name].setdefault(\"mid\", {})[pop] = mid\n",
        "        results[run_name].setdefault(\"high\", {})[pop] = hi"
      ]
    },
    {
      "cell_type": "code",
      "execution_count": 52,
      "id": "89",
      "metadata": {
        "id": "89"
      },
      "outputs": [],
      "source": [
        "rows = []\n",
        "for run_name, run_stats in results.items():\n",
        "    for pop in run_stats[\"mid\"]:\n",
        "        rows.append(\n",
        "            {\n",
        "                \"run\": run_name,\n",
        "                \"population\": pop,\n",
        "                \"low\": f\"-{run_stats['low'][pop]}\",\n",
        "                \"mid\": run_stats[\"mid\"][pop],\n",
        "                \"high\": f\"+{run_stats['high'][pop]}\",\n",
        "            }\n",
        "        )\n",
        "\n",
        "results_table = Table(rows=rows, names=(\"run\", \"population\", \"low\", \"mid\", \"high\"))"
      ]
    },
    {
      "cell_type": "code",
      "execution_count": 53,
      "id": "90",
      "metadata": {
        "colab": {
          "base_uri": "https://localhost:8080/",
          "height": 207
        },
        "id": "90",
        "outputId": "46e90311-4585-49f3-cc50-46b5c9d2084e"
      },
      "outputs": [
        {
          "output_type": "execute_result",
          "data": {
            "text/plain": [
              "<Table length=6>\n",
              "run  population low  mid  high\n",
              "str2    str4    str3 str3 str4\n",
              "---- ---------- ---- ---- ----\n",
              "  O4        BNS  -25   34  +78\n",
              "  O4       NSBH  -38   72  +75\n",
              "  O4        BBH  -42  106  +65\n",
              "  O5        BNS  -85  121 +266\n",
              "  O5       NSBH  -85  165 +167\n",
              "  O5        BBH  -52  133  +81"
            ],
            "text/html": [
              "<div><i>Table length=6</i>\n",
              "<table id=\"table132075682118640\" class=\"table-striped table-bordered table-condensed\">\n",
              "<thead><tr><th>run</th><th>population</th><th>low</th><th>mid</th><th>high</th></tr></thead>\n",
              "<thead><tr><th>str2</th><th>str4</th><th>str3</th><th>str3</th><th>str4</th></tr></thead>\n",
              "<tr><td>O4</td><td>BNS</td><td>-25</td><td>34</td><td>+78</td></tr>\n",
              "<tr><td>O4</td><td>NSBH</td><td>-38</td><td>72</td><td>+75</td></tr>\n",
              "<tr><td>O4</td><td>BBH</td><td>-42</td><td>106</td><td>+65</td></tr>\n",
              "<tr><td>O5</td><td>BNS</td><td>-85</td><td>121</td><td>+266</td></tr>\n",
              "<tr><td>O5</td><td>NSBH</td><td>-85</td><td>165</td><td>+167</td></tr>\n",
              "<tr><td>O5</td><td>BBH</td><td>-52</td><td>133</td><td>+81</td></tr>\n",
              "</table></div>"
            ]
          },
          "metadata": {},
          "execution_count": 53
        }
      ],
      "source": [
        "results_table"
      ]
    },
    {
      "cell_type": "code",
      "execution_count": 54,
      "id": "91",
      "metadata": {
        "colab": {
          "base_uri": "https://localhost:8080/"
        },
        "id": "91",
        "outputId": "da268fb1-385e-4f7a-9920-4d3c7ae98465"
      },
      "outputs": [
        {
          "output_type": "stream",
          "name": "stdout",
          "text": [
            "\n",
            " Observing Run  O4\n",
            "==============================\n",
            "run population low mid high\n",
            "--- ---------- --- --- ----\n",
            " O4        BNS -25  34  +78\n",
            " O4       NSBH -38  72  +75\n",
            " O4        BBH -42 106  +65\n",
            "==============================\n",
            "\n",
            " Observing Run  O5\n",
            "==============================\n",
            "run population low mid high\n",
            "--- ---------- --- --- ----\n",
            " O5        BNS -85 121 +266\n",
            " O5       NSBH -85 165 +167\n",
            " O5        BBH -52 133  +81\n",
            "==============================\n"
          ]
        }
      ],
      "source": [
        "# display by run\n",
        "for run_name in sorted(set(results_table[\"run\"])):\n",
        "    print(f\"\\n Observing Run  {run_name}\")\n",
        "    print(\"=\" * 30)\n",
        "    print(results_table[results_table[\"run\"] == run_name])\n",
        "    print(\"=\" * 30)"
      ]
    }
  ],
  "metadata": {
    "kernelspec": {
      "display_name": "earthorbitplan_env",
      "language": "python",
      "name": "python3"
    },
    "language_info": {
      "codemirror_mode": {
        "name": "ipython",
        "version": 3
      },
      "file_extension": ".py",
      "mimetype": "text/x-python",
      "name": "python",
      "nbconvert_exporter": "python",
      "pygments_lexer": "ipython3",
      "version": "3.11.8"
    },
    "colab": {
      "provenance": []
    },
    "widgets": {
      "application/vnd.jupyter.widget-state+json": {
        "5abcdadf7d884fe1846a7cfc112b79c5": {
          "model_module": "@jupyter-widgets/controls",
          "model_name": "HBoxModel",
          "model_module_version": "1.5.0",
          "state": {
            "_dom_classes": [],
            "_model_module": "@jupyter-widgets/controls",
            "_model_module_version": "1.5.0",
            "_model_name": "HBoxModel",
            "_view_count": null,
            "_view_module": "@jupyter-widgets/controls",
            "_view_module_version": "1.5.0",
            "_view_name": "HBoxView",
            "box_style": "",
            "children": [
              "IPY_MODEL_887f7fb4f3b0407dbf377f8519fa9ae1",
              "IPY_MODEL_02916d485de24178aa70dd55e6eb8ae7",
              "IPY_MODEL_59f60f2c61e94464ba9af994698b758e"
            ],
            "layout": "IPY_MODEL_9f587d60dd76429e85d26f9152feb3d8"
          }
        },
        "887f7fb4f3b0407dbf377f8519fa9ae1": {
          "model_module": "@jupyter-widgets/controls",
          "model_name": "HTMLModel",
          "model_module_version": "1.5.0",
          "state": {
            "_dom_classes": [],
            "_model_module": "@jupyter-widgets/controls",
            "_model_module_version": "1.5.0",
            "_model_name": "HTMLModel",
            "_view_count": null,
            "_view_module": "@jupyter-widgets/controls",
            "_view_module_version": "1.5.0",
            "_view_name": "HTMLView",
            "description": "",
            "description_tooltip": null,
            "layout": "IPY_MODEL_5e8fb3489cbb4296bc4470ac344ea799",
            "placeholder": "​",
            "style": "IPY_MODEL_aec48290735d4c5da2c60a99dacf7d44",
            "value": "100%"
          }
        },
        "02916d485de24178aa70dd55e6eb8ae7": {
          "model_module": "@jupyter-widgets/controls",
          "model_name": "FloatProgressModel",
          "model_module_version": "1.5.0",
          "state": {
            "_dom_classes": [],
            "_model_module": "@jupyter-widgets/controls",
            "_model_module_version": "1.5.0",
            "_model_name": "FloatProgressModel",
            "_view_count": null,
            "_view_module": "@jupyter-widgets/controls",
            "_view_module_version": "1.5.0",
            "_view_name": "ProgressView",
            "bar_style": "success",
            "description": "",
            "description_tooltip": null,
            "layout": "IPY_MODEL_6f2484107c4946d99d47c50d095e25dc",
            "max": 5,
            "min": 0,
            "orientation": "horizontal",
            "style": "IPY_MODEL_34b0a35ccb8240b58f7e3bc901e154a2",
            "value": 5
          }
        },
        "59f60f2c61e94464ba9af994698b758e": {
          "model_module": "@jupyter-widgets/controls",
          "model_name": "HTMLModel",
          "model_module_version": "1.5.0",
          "state": {
            "_dom_classes": [],
            "_model_module": "@jupyter-widgets/controls",
            "_model_module_version": "1.5.0",
            "_model_name": "HTMLModel",
            "_view_count": null,
            "_view_module": "@jupyter-widgets/controls",
            "_view_module_version": "1.5.0",
            "_view_name": "HTMLView",
            "description": "",
            "description_tooltip": null,
            "layout": "IPY_MODEL_f44b75c84ad549fc982cc86ff5ecdfea",
            "placeholder": "​",
            "style": "IPY_MODEL_8335825b8c0e46b0bbf48bb3f2752ec4",
            "value": " 5/5 [00:09&lt;00:00,  1.80s/it]"
          }
        },
        "9f587d60dd76429e85d26f9152feb3d8": {
          "model_module": "@jupyter-widgets/base",
          "model_name": "LayoutModel",
          "model_module_version": "1.2.0",
          "state": {
            "_model_module": "@jupyter-widgets/base",
            "_model_module_version": "1.2.0",
            "_model_name": "LayoutModel",
            "_view_count": null,
            "_view_module": "@jupyter-widgets/base",
            "_view_module_version": "1.2.0",
            "_view_name": "LayoutView",
            "align_content": null,
            "align_items": null,
            "align_self": null,
            "border": null,
            "bottom": null,
            "display": null,
            "flex": null,
            "flex_flow": null,
            "grid_area": null,
            "grid_auto_columns": null,
            "grid_auto_flow": null,
            "grid_auto_rows": null,
            "grid_column": null,
            "grid_gap": null,
            "grid_row": null,
            "grid_template_areas": null,
            "grid_template_columns": null,
            "grid_template_rows": null,
            "height": null,
            "justify_content": null,
            "justify_items": null,
            "left": null,
            "margin": null,
            "max_height": null,
            "max_width": null,
            "min_height": null,
            "min_width": null,
            "object_fit": null,
            "object_position": null,
            "order": null,
            "overflow": null,
            "overflow_x": null,
            "overflow_y": null,
            "padding": null,
            "right": null,
            "top": null,
            "visibility": null,
            "width": null
          }
        },
        "5e8fb3489cbb4296bc4470ac344ea799": {
          "model_module": "@jupyter-widgets/base",
          "model_name": "LayoutModel",
          "model_module_version": "1.2.0",
          "state": {
            "_model_module": "@jupyter-widgets/base",
            "_model_module_version": "1.2.0",
            "_model_name": "LayoutModel",
            "_view_count": null,
            "_view_module": "@jupyter-widgets/base",
            "_view_module_version": "1.2.0",
            "_view_name": "LayoutView",
            "align_content": null,
            "align_items": null,
            "align_self": null,
            "border": null,
            "bottom": null,
            "display": null,
            "flex": null,
            "flex_flow": null,
            "grid_area": null,
            "grid_auto_columns": null,
            "grid_auto_flow": null,
            "grid_auto_rows": null,
            "grid_column": null,
            "grid_gap": null,
            "grid_row": null,
            "grid_template_areas": null,
            "grid_template_columns": null,
            "grid_template_rows": null,
            "height": null,
            "justify_content": null,
            "justify_items": null,
            "left": null,
            "margin": null,
            "max_height": null,
            "max_width": null,
            "min_height": null,
            "min_width": null,
            "object_fit": null,
            "object_position": null,
            "order": null,
            "overflow": null,
            "overflow_x": null,
            "overflow_y": null,
            "padding": null,
            "right": null,
            "top": null,
            "visibility": null,
            "width": null
          }
        },
        "aec48290735d4c5da2c60a99dacf7d44": {
          "model_module": "@jupyter-widgets/controls",
          "model_name": "DescriptionStyleModel",
          "model_module_version": "1.5.0",
          "state": {
            "_model_module": "@jupyter-widgets/controls",
            "_model_module_version": "1.5.0",
            "_model_name": "DescriptionStyleModel",
            "_view_count": null,
            "_view_module": "@jupyter-widgets/base",
            "_view_module_version": "1.2.0",
            "_view_name": "StyleView",
            "description_width": ""
          }
        },
        "6f2484107c4946d99d47c50d095e25dc": {
          "model_module": "@jupyter-widgets/base",
          "model_name": "LayoutModel",
          "model_module_version": "1.2.0",
          "state": {
            "_model_module": "@jupyter-widgets/base",
            "_model_module_version": "1.2.0",
            "_model_name": "LayoutModel",
            "_view_count": null,
            "_view_module": "@jupyter-widgets/base",
            "_view_module_version": "1.2.0",
            "_view_name": "LayoutView",
            "align_content": null,
            "align_items": null,
            "align_self": null,
            "border": null,
            "bottom": null,
            "display": null,
            "flex": null,
            "flex_flow": null,
            "grid_area": null,
            "grid_auto_columns": null,
            "grid_auto_flow": null,
            "grid_auto_rows": null,
            "grid_column": null,
            "grid_gap": null,
            "grid_row": null,
            "grid_template_areas": null,
            "grid_template_columns": null,
            "grid_template_rows": null,
            "height": null,
            "justify_content": null,
            "justify_items": null,
            "left": null,
            "margin": null,
            "max_height": null,
            "max_width": null,
            "min_height": null,
            "min_width": null,
            "object_fit": null,
            "object_position": null,
            "order": null,
            "overflow": null,
            "overflow_x": null,
            "overflow_y": null,
            "padding": null,
            "right": null,
            "top": null,
            "visibility": null,
            "width": null
          }
        },
        "34b0a35ccb8240b58f7e3bc901e154a2": {
          "model_module": "@jupyter-widgets/controls",
          "model_name": "ProgressStyleModel",
          "model_module_version": "1.5.0",
          "state": {
            "_model_module": "@jupyter-widgets/controls",
            "_model_module_version": "1.5.0",
            "_model_name": "ProgressStyleModel",
            "_view_count": null,
            "_view_module": "@jupyter-widgets/base",
            "_view_module_version": "1.2.0",
            "_view_name": "StyleView",
            "bar_color": null,
            "description_width": ""
          }
        },
        "f44b75c84ad549fc982cc86ff5ecdfea": {
          "model_module": "@jupyter-widgets/base",
          "model_name": "LayoutModel",
          "model_module_version": "1.2.0",
          "state": {
            "_model_module": "@jupyter-widgets/base",
            "_model_module_version": "1.2.0",
            "_model_name": "LayoutModel",
            "_view_count": null,
            "_view_module": "@jupyter-widgets/base",
            "_view_module_version": "1.2.0",
            "_view_name": "LayoutView",
            "align_content": null,
            "align_items": null,
            "align_self": null,
            "border": null,
            "bottom": null,
            "display": null,
            "flex": null,
            "flex_flow": null,
            "grid_area": null,
            "grid_auto_columns": null,
            "grid_auto_flow": null,
            "grid_auto_rows": null,
            "grid_column": null,
            "grid_gap": null,
            "grid_row": null,
            "grid_template_areas": null,
            "grid_template_columns": null,
            "grid_template_rows": null,
            "height": null,
            "justify_content": null,
            "justify_items": null,
            "left": null,
            "margin": null,
            "max_height": null,
            "max_width": null,
            "min_height": null,
            "min_width": null,
            "object_fit": null,
            "object_position": null,
            "order": null,
            "overflow": null,
            "overflow_x": null,
            "overflow_y": null,
            "padding": null,
            "right": null,
            "top": null,
            "visibility": null,
            "width": null
          }
        },
        "8335825b8c0e46b0bbf48bb3f2752ec4": {
          "model_module": "@jupyter-widgets/controls",
          "model_name": "DescriptionStyleModel",
          "model_module_version": "1.5.0",
          "state": {
            "_model_module": "@jupyter-widgets/controls",
            "_model_module_version": "1.5.0",
            "_model_name": "DescriptionStyleModel",
            "_view_count": null,
            "_view_module": "@jupyter-widgets/base",
            "_view_module_version": "1.2.0",
            "_view_name": "StyleView",
            "description_width": ""
          }
        }
      }
    }
  },
  "nbformat": 4,
  "nbformat_minor": 5
}
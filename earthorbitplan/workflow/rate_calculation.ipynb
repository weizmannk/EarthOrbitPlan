{
 "cells": [
  {
   "cell_type": "code",
   "execution_count": null,
   "id": "0",
   "metadata": {},
   "outputs": [],
   "source": [
    "import warnings\n",
    "\n",
    "warnings.filterwarnings(\"ignore\", \"Wswiglal-redir-stdio\")\n",
    "warnings.filterwarnings(\"ignore\", \".*dubious year.*\")\n",
    "warnings.filterwarnings(\n",
    "    \"ignore\", \"Tried to get polar motions for times after IERS data is valid.*\"\n",
    ")"
   ]
  },
  {
   "cell_type": "code",
   "execution_count": null,
   "id": "1",
   "metadata": {},
   "outputs": [],
   "source": [
    "import logging\n",
    "\n",
    "import numpy as np\n",
    "from astropy import units as u\n",
    "from astropy.table import QTable\n",
    "from scipy import stats\n",
    "\n",
    "from earthorbitplan.probability.rate import poisson_lognormal_rate_quantiles"
   ]
  },
  {
   "cell_type": "markdown",
   "id": "2",
   "metadata": {},
   "source": [
    "### Setup logging "
   ]
  },
  {
   "cell_type": "code",
   "execution_count": null,
   "id": "3",
   "metadata": {},
   "outputs": [],
   "source": [
    "logging.basicConfig(\n",
    "    level=logging.INFO,\n",
    "    format=\"%(asctime)s [%(levelname)s] %(message)s\",\n",
    "    force=True,\n",
    ")"
   ]
  },
  {
   "cell_type": "code",
   "execution_count": null,
   "id": "4",
   "metadata": {},
   "outputs": [],
   "source": [
    "import os\n",
    "\n",
    "print(\"cwd =\", os.getcwd())\n",
    "print(\"events.ecsv exists?\", os.path.exists(\"../data/events.ecsv\"))"
   ]
  },
  {
   "cell_type": "markdown",
   "id": "5",
   "metadata": {},
   "source": [
    "### Load the Data"
   ]
  },
  {
   "cell_type": "code",
   "execution_count": null,
   "id": "6",
   "metadata": {},
   "outputs": [],
   "source": [
    "main_table = QTable.read(\"../data/events.ecsv\")"
   ]
  },
  {
   "cell_type": "code",
   "execution_count": null,
   "id": "7",
   "metadata": {},
   "outputs": [],
   "source": [
    "runs = np.unique(main_table[\"run\"])\n",
    "\n",
    "print(runs)"
   ]
  },
  {
   "cell_type": "markdown",
   "id": "8",
   "metadata": {},
   "source": [
    "### Inspect Plan Arguments and Set Cutoff"
   ]
  },
  {
   "cell_type": "code",
   "execution_count": null,
   "id": "9",
   "metadata": {},
   "outputs": [],
   "source": [
    "cutoff = main_table[\"cutoff\"]\n",
    "main_table = main_table[main_table[\"objective_value\"] >= cutoff]\n",
    "main_table[0:1]"
   ]
  },
  {
   "cell_type": "code",
   "execution_count": null,
   "id": "10",
   "metadata": {},
   "outputs": [],
   "source": [
    "event_tables_by_run = {run: main_table[main_table[\"run\"] == run] for run in runs}\n",
    "event_tables_by_run[runs[0]][0:1]"
   ]
  },
  {
   "cell_type": "markdown",
   "id": "11",
   "metadata": {},
   "source": [
    "### Merger Rate Quantiles from O3 R&P Paper \n",
    "\n",
    "This section explains how we reproduce the 5%, 50%, and 95% quantiles of the BNS and NSBH merger rate, \n",
    "\n",
    "as reported in [O3 R&P, Table II](https://doi.org/10.1103/PhysRevX.13.011048), for our own simulation statistics.\n"
   ]
  },
  {
   "cell_type": "markdown",
   "id": "12",
   "metadata": {},
   "source": [
    "## O3 R&P Table II (Last Column)\n",
    "\n",
    "Reported BNS merger rates:\n",
    "\n",
    "- **5% quantile:** 100 $\\mathrm{Gpc}^{-3}\\ \\mathrm{yr}^{-1} $\n",
    "\n",
    "- **50% quantile (median):** 240 $\\mathrm{Gpc}^{-3}\\ \\mathrm{yr}^{-1} $\n",
    "\n",
    "- **95% quantile:** 510 $\\mathrm{Gpc}^{-3}\\ \\mathrm{yr}^{-1} $"
   ]
  },
  {
   "cell_type": "code",
   "execution_count": null,
   "id": "13",
   "metadata": {},
   "outputs": [],
   "source": [
    "event_tables_by_run = {run: main_table[main_table[\"run\"] == run] for run in runs}\n",
    "event_tables_by_run[runs[0]][0:1]"
   ]
  },
  {
   "cell_type": "code",
   "execution_count": null,
   "id": "14",
   "metadata": {},
   "outputs": [],
   "source": [
    "lo = 100\n",
    "mid = 240\n",
    "hi = 510\n",
    "\n",
    "# 90% interval width (in log-normal)\n",
    "(standard_90pct_interval,) = np.diff(stats.norm.interval(0.9))\n",
    "log_target_rate_mu = np.log(mid)\n",
    "log_target_rate_sigma = np.log(hi / lo) / standard_90pct_interval\n",
    "\n",
    "print(log_target_rate_mu, log_target_rate_sigma)"
   ]
  },
  {
   "cell_type": "markdown",
   "id": "15",
   "metadata": {},
   "source": [
    "### Compute effective rate for each run:"
   ]
  },
  {
   "cell_type": "code",
   "execution_count": null,
   "id": "16",
   "metadata": {},
   "outputs": [],
   "source": [
    "log_simulation_effective_rate_by_run = {\n",
    "    key: np.log(value.to_value(u.Gpc**-3 * u.yr**-1))\n",
    "    for key, value in main_table.meta[\"effective_rate\"].items()\n",
    "}\n",
    "log_simulation_effective_rate_by_run"
   ]
  },
  {
   "cell_type": "markdown",
   "id": "17",
   "metadata": {},
   "source": [
    "### Compute $\\mu$ for each run\n",
    "\n",
    " $\\mu$ is calculated for each simulation run as:\n",
    "\n",
    "$\n",
    "\\mu = \\log(\\text{target median}) + \\log(\\text{run duration}) - \\log(\\text{simulation effective rate}) + \\log(\\text{N or detected N})\n",
    "$\n",
    "\n",
    "\n",
    "Here we use both number of events and number detected (with known position).\n"
   ]
  },
  {
   "cell_type": "code",
   "execution_count": null,
   "id": "18",
   "metadata": {},
   "outputs": [],
   "source": [
    "prob_quantiles = np.asarray([0.5, 0.05, 0.95])  # median, 5%, 95%\n",
    "run_duration = 1.5  # years\n",
    "\n",
    "mu = np.asarray(\n",
    "    [\n",
    "        log_target_rate_mu\n",
    "        + np.log(run_duration)\n",
    "        - log_simulation_effective_rate_by_run[run]\n",
    "        + np.log(\n",
    "            [\n",
    "                np.sum(_)\n",
    "                for _ in [\n",
    "                    np.ones_like(event_tables_by_run[run][\"objective_value\"]),\n",
    "                    event_tables_by_run[run][\"detection_probability_known_position\"],\n",
    "                ]\n",
    "            ]\n",
    "        )\n",
    "        for run in runs\n",
    "    ]\n",
    ")\n",
    "\n",
    "mu"
   ]
  },
  {
   "cell_type": "markdown",
   "id": "19",
   "metadata": {},
   "source": [
    "### Compute Poisson-Lognormal Rate Quantiles\n",
    "\n",
    "This step calculates the quantile intervals for the merger rates for all runs.\n"
   ]
  },
  {
   "cell_type": "code",
   "execution_count": null,
   "id": "20",
   "metadata": {},
   "outputs": [],
   "source": [
    "rate_quantiles = poisson_lognormal_rate_quantiles(\n",
    "    prob_quantiles[np.newaxis, np.newaxis, :],\n",
    "    mu.T[:, :, np.newaxis],\n",
    "    log_target_rate_sigma,\n",
    ")\n",
    "\n",
    "idx = 0\n",
    "print(f\"Quantiles for first run {runs[idx]}:\", rate_quantiles[idx])"
   ]
  },
  {
   "cell_type": "code",
   "execution_count": null,
   "id": "21",
   "metadata": {},
   "outputs": [],
   "source": [
    "latex_rows = []\n",
    "header = \"Run & \" + \" & \".join(list(runs)) + r\" \\\\\"\n",
    "latex_rows = [header]\n",
    "\n",
    "for i, (label, row) in enumerate(\n",
    "    zip([\"Number of events selected\", \"Number of events detected\"], rate_quantiles)\n",
    "):\n",
    "    formatted = [\n",
    "        \"${}_{{-{}}}^{{+{}}}$\".format(\n",
    "            int(np.rint(mid)), int(np.rint(mid - lo)), int(np.rint(hi - mid))\n",
    "        )\n",
    "        for mid, lo, hi in row\n",
    "    ]\n",
    "    line = \" & \".join([label] + formatted) + r\" \\\\\"\n",
    "    latex_rows.append(line)\n",
    "\n",
    "\n",
    "latex_table = \"\\n\".join(latex_rows)\n",
    "print(latex_table)"
   ]
  },
  {
   "cell_type": "code",
   "execution_count": null,
   "id": "22",
   "metadata": {},
   "outputs": [],
   "source": [
    "import numpy as np\n",
    "from astropy import units as u\n",
    "from astropy.cosmology import Planck15 as cosmo\n",
    "from astropy.cosmology import z_at_value\n",
    "from astropy.table import QTable\n",
    "\n",
    "\n",
    "def format_row_latex(row):\n",
    "    \"\"\"Return a LaTeX table row for a given event.\"\"\"\n",
    "\n",
    "    # Format each field as required\n",
    "    mass1 = np.format_float_positional(row[\"mass1\"], 3, fractional=True)\n",
    "    mass2 = np.format_float_positional(row[\"mass2\"], 3, fractional=True)\n",
    "    lon = np.format_float_positional(np.rad2deg(row[\"longitude\"]), 4, fractional=True)\n",
    "    lat = np.format_float_positional(\n",
    "        np.rad2deg(row[\"latitude\"]), 4, fractional=True, sign=True\n",
    "    )\n",
    "    distance = np.format_float_positional(row[\"distance\"], 0, trim=\"-\", fractional=True)\n",
    "    area90 = np.format_float_positional(row[\"area(90)\"], 0, trim=\"-\", fractional=True)\n",
    "\n",
    "    if row[\"objective_value\"] >= 0.1:\n",
    "        objective = \"\\\\phantom{$<$}\" + np.format_float_positional(\n",
    "            row[\"objective_value\"], 2, min_digits=2, fractional=True, trim=\"k\"\n",
    "        )\n",
    "        detection = np.format_float_positional(\n",
    "            row[\"detection_probability_known_position\"],\n",
    "            2,\n",
    "            min_digits=2,\n",
    "            fractional=True,\n",
    "            trim=\"k\",\n",
    "        )\n",
    "    else:\n",
    "        objective = r\"$<$0.10\"\n",
    "        detection = \"---\"\n",
    "    # Construct the LaTeX table row\n",
    "    return (\n",
    "        f\"{row['run']} & {row['coinc_event_id']} & {mass1} & {mass2} & \"\n",
    "        f\"{lon} & {lat} & {distance} & {area90} & {objective} & {detection} \\\\\\\\\"\n",
    "    )\n",
    "\n",
    "\n",
    "# --- Main processing ---\n",
    "table = QTable.read(\"../data/events.ecsv\")\n",
    "zp1 = 1 + z_at_value(cosmo.luminosity_distance, table[\"distance\"] * u.Mpc)\n",
    "table[\"mass1\"] /= zp1\n",
    "table[\"mass2\"] /= zp1\n",
    "table = table[table[\"mass2\"] <= 3]\n",
    "\n",
    "n_show = 4  # Number of first/last events to show\n",
    "rows = [format_row_latex(row) for row in table]\n",
    "\n",
    "# Write full table to LaTeX file\n",
    "with open(\"events.tex\", \"w\") as f:\n",
    "    for row in rows:\n",
    "        print(row, file=f)\n",
    "\n",
    "# For ReadTheDocs preview, print first and last 4 rows\n",
    "print(\"% The first 4 events:\")\n",
    "for r in rows[:n_show]:\n",
    "    print(r)\n",
    "print(\"\\n% The last 4 events:\")\n",
    "for r in rows[-n_show:]:\n",
    "    print(r)"
   ]
  },
  {
   "cell_type": "code",
   "execution_count": null,
   "id": "23",
   "metadata": {},
   "outputs": [],
   "source": []
  }
 ],
 "metadata": {
  "kernelspec": {
   "display_name": "earthorbitplan_env",
   "language": "python",
   "name": "python3"
  },
  "language_info": {
   "codemirror_mode": {
    "name": "ipython",
    "version": 3
   },
   "file_extension": ".py",
   "mimetype": "text/x-python",
   "name": "python",
   "nbconvert_exporter": "python",
   "pygments_lexer": "ipython3",
   "version": "3.11.13"
  }
 },
 "nbformat": 4,
 "nbformat_minor": 5
}
